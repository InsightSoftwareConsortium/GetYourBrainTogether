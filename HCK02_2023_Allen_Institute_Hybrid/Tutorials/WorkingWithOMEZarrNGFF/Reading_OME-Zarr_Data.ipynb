{
 "cells": [
  {
   "cell_type": "markdown",
   "id": "37b1782c-2b1d-4e97-9f66-6e5af912fa74",
   "metadata": {},
   "source": [
    "## Reading OME-Zarr Data"
   ]
  },
  {
   "cell_type": "markdown",
   "id": "8a82e2df-0b6d-4b91-a578-a6ab2256947c",
   "metadata": {},
   "source": [
    "## Learning Objectives\n",
    "\n",
    "- Understand that OME-Zarr data is **lazily loaded**\n",
    "- Understand how **compression** and **chunking** limits fetched data\n",
    "- Learn how to load OME-Zarr datasets in Python"
   ]
  },
  {
   "cell_type": "markdown",
   "id": "83461a1d-7720-457c-a081-9e0b439482d0",
   "metadata": {},
   "source": [
    "### Install and import notebook depedencies"
   ]
  },
  {
   "cell_type": "code",
   "execution_count": 1,
   "id": "21b1e7d4-88ee-4985-8f86-182d59338b9d",
   "metadata": {},
   "outputs": [],
   "source": [
    "import sys\n",
    "\n",
    "!{sys.executable} -m pip install -q zarr 'fsspec[http]' ngff-zarr"
   ]
  },
  {
   "cell_type": "code",
   "execution_count": 16,
   "id": "5dcefb21-aaa9-42cd-950d-aae844c871cd",
   "metadata": {},
   "outputs": [],
   "source": [
    "from zarr.storage import FSStore\n",
    "from ngff_zarr import from_ngff_zarr\n",
    "import numpy as np\n",
    "from rich import print"
   ]
  },
  {
   "cell_type": "markdown",
   "id": "5d44141e-e7c6-42f4-bb32-eba706d05d78",
   "metadata": {},
   "source": [
    "## Lazy Loading"
   ]
  },
  {
   "cell_type": "markdown",
   "id": "ff8d24e0-c963-4731-a57f-3b8cb7082011",
   "metadata": {},
   "source": [
    "In OME-Zarr, pixel data is not loaded until it is used, i.e. it is *lazily loaded*."
   ]
  },
  {
   "cell_type": "code",
   "execution_count": 21,
   "id": "5740091b-65f3-4b38-802f-df6f9388e38f",
   "metadata": {
    "scrolled": true
   },
   "outputs": [
    {
     "data": {
      "text/html": [
       "<pre style=\"white-space:pre;overflow-x:auto;line-height:normal;font-family:Menlo,'DejaVu Sans Mono',consolas,'Courier New',monospace\"><span style=\"color: #800080; text-decoration-color: #800080; font-weight: bold\">Multiscales</span><span style=\"font-weight: bold\">(</span>\n",
       "    <span style=\"color: #808000; text-decoration-color: #808000\">images</span>=<span style=\"font-weight: bold\">[</span>\n",
       "        <span style=\"color: #800080; text-decoration-color: #800080; font-weight: bold\">NgffImage</span><span style=\"font-weight: bold\">(</span>\n",
       "            <span style=\"color: #808000; text-decoration-color: #808000\">data</span>=<span style=\"color: #800080; text-decoration-color: #800080\">dask</span>.array<span style=\"font-weight: bold\">&lt;</span><span style=\"color: #ff00ff; text-decoration-color: #ff00ff; font-weight: bold\">from-zarr</span><span style=\"color: #000000; text-decoration-color: #000000\">, </span><span style=\"color: #808000; text-decoration-color: #808000\">shape</span><span style=\"color: #000000; text-decoration-color: #000000\">=</span><span style=\"color: #000000; text-decoration-color: #000000; font-weight: bold\">(</span><span style=\"color: #008080; text-decoration-color: #008080; font-weight: bold\">1</span><span style=\"color: #000000; text-decoration-color: #000000\">, </span><span style=\"color: #008080; text-decoration-color: #008080; font-weight: bold\">1</span><span style=\"color: #000000; text-decoration-color: #000000\">, </span><span style=\"color: #008080; text-decoration-color: #008080; font-weight: bold\">4200</span><span style=\"color: #000000; text-decoration-color: #000000\">, </span><span style=\"color: #008080; text-decoration-color: #008080; font-weight: bold\">10240</span><span style=\"color: #000000; text-decoration-color: #000000\">, </span><span style=\"color: #008080; text-decoration-color: #008080; font-weight: bold\">7400</span><span style=\"color: #000000; text-decoration-color: #000000; font-weight: bold\">)</span><span style=\"color: #000000; text-decoration-color: #000000\">, </span><span style=\"color: #808000; text-decoration-color: #808000\">dtype</span><span style=\"color: #000000; text-decoration-color: #000000\">=</span><span style=\"color: #800080; text-decoration-color: #800080\">uint16</span><span style=\"color: #000000; text-decoration-color: #000000\">, </span><span style=\"color: #808000; text-decoration-color: #808000\">chunksize</span><span style=\"color: #000000; text-decoration-color: #000000\">=</span><span style=\"color: #000000; text-decoration-color: #000000; font-weight: bold\">(</span><span style=\"color: #008080; text-decoration-color: #008080; font-weight: bold\">1</span><span style=\"color: #000000; text-decoration-color: #000000\">, </span><span style=\"color: #008080; text-decoration-color: #008080; font-weight: bold\">1</span><span style=\"color: #000000; text-decoration-color: #000000\">, </span><span style=\"color: #008080; text-decoration-color: #008080; font-weight: bold\">1</span><span style=\"color: #000000; text-decoration-color: #000000\">, </span><span style=\"color: #008080; text-decoration-color: #008080; font-weight: bold\">10240</span><span style=\"color: #000000; text-decoration-color: #000000\">, </span>\n",
       "<span style=\"color: #008080; text-decoration-color: #008080; font-weight: bold\">7400</span><span style=\"color: #000000; text-decoration-color: #000000; font-weight: bold\">)</span><span style=\"color: #000000; text-decoration-color: #000000\">, </span><span style=\"color: #808000; text-decoration-color: #808000\">chunktype</span><span style=\"color: #000000; text-decoration-color: #000000\">=</span><span style=\"color: #800080; text-decoration-color: #800080\">numpy</span><span style=\"color: #000000; text-decoration-color: #000000\">.ndarray&gt;,</span>\n",
       "<span style=\"color: #000000; text-decoration-color: #000000\">            </span><span style=\"color: #808000; text-decoration-color: #808000\">dims</span><span style=\"color: #000000; text-decoration-color: #000000\">=</span><span style=\"color: #000000; text-decoration-color: #000000; font-weight: bold\">[</span><span style=\"color: #008000; text-decoration-color: #008000\">'t'</span><span style=\"color: #000000; text-decoration-color: #000000\">, </span><span style=\"color: #008000; text-decoration-color: #008000\">'c'</span><span style=\"color: #000000; text-decoration-color: #000000\">, </span><span style=\"color: #008000; text-decoration-color: #008000\">'z'</span><span style=\"color: #000000; text-decoration-color: #000000\">, </span><span style=\"color: #008000; text-decoration-color: #008000\">'y'</span><span style=\"color: #000000; text-decoration-color: #000000\">, </span><span style=\"color: #008000; text-decoration-color: #008000\">'x'</span><span style=\"color: #000000; text-decoration-color: #000000; font-weight: bold\">]</span><span style=\"color: #000000; text-decoration-color: #000000\">,</span>\n",
       "<span style=\"color: #000000; text-decoration-color: #000000\">            </span><span style=\"color: #808000; text-decoration-color: #808000\">scale</span><span style=\"color: #000000; text-decoration-color: #000000\">=</span><span style=\"color: #000000; text-decoration-color: #000000; font-weight: bold\">{</span><span style=\"color: #008000; text-decoration-color: #008000\">'t'</span><span style=\"color: #000000; text-decoration-color: #000000\">: </span><span style=\"color: #008080; text-decoration-color: #008080; font-weight: bold\">1.0</span><span style=\"color: #000000; text-decoration-color: #000000\">, </span><span style=\"color: #008000; text-decoration-color: #008000\">'c'</span><span style=\"color: #000000; text-decoration-color: #000000\">: </span><span style=\"color: #008080; text-decoration-color: #008080; font-weight: bold\">1.0</span><span style=\"color: #000000; text-decoration-color: #000000\">, </span><span style=\"color: #008000; text-decoration-color: #008000\">'z'</span><span style=\"color: #000000; text-decoration-color: #000000\">: </span><span style=\"color: #008080; text-decoration-color: #008080; font-weight: bold\">2.0</span><span style=\"color: #000000; text-decoration-color: #000000\">, </span><span style=\"color: #008000; text-decoration-color: #008000\">'y'</span><span style=\"color: #000000; text-decoration-color: #000000\">: </span><span style=\"color: #008080; text-decoration-color: #008080; font-weight: bold\">1.8</span><span style=\"color: #000000; text-decoration-color: #000000\">, </span><span style=\"color: #008000; text-decoration-color: #008000\">'x'</span><span style=\"color: #000000; text-decoration-color: #000000\">: </span><span style=\"color: #008080; text-decoration-color: #008080; font-weight: bold\">1.8</span><span style=\"color: #000000; text-decoration-color: #000000; font-weight: bold\">}</span><span style=\"color: #000000; text-decoration-color: #000000\">,</span>\n",
       "<span style=\"color: #000000; text-decoration-color: #000000\">            </span><span style=\"color: #808000; text-decoration-color: #808000\">translation</span><span style=\"color: #000000; text-decoration-color: #000000\">=</span><span style=\"color: #000000; text-decoration-color: #000000; font-weight: bold\">{</span><span style=\"color: #008000; text-decoration-color: #008000\">'t'</span><span style=\"color: #000000; text-decoration-color: #000000\">: </span><span style=\"color: #008080; text-decoration-color: #008080; font-weight: bold\">0.0</span><span style=\"color: #000000; text-decoration-color: #000000\">, </span><span style=\"color: #008000; text-decoration-color: #008000\">'c'</span><span style=\"color: #000000; text-decoration-color: #000000\">: </span><span style=\"color: #008080; text-decoration-color: #008080; font-weight: bold\">0.0</span><span style=\"color: #000000; text-decoration-color: #000000\">, </span><span style=\"color: #008000; text-decoration-color: #008000\">'z'</span><span style=\"color: #000000; text-decoration-color: #000000\">: </span><span style=\"color: #008080; text-decoration-color: #008080; font-weight: bold\">0.0</span><span style=\"color: #000000; text-decoration-color: #000000\">, </span><span style=\"color: #008000; text-decoration-color: #008000\">'y'</span><span style=\"color: #000000; text-decoration-color: #000000\">: </span><span style=\"color: #008080; text-decoration-color: #008080; font-weight: bold\">0.0</span><span style=\"color: #000000; text-decoration-color: #000000\">, </span><span style=\"color: #008000; text-decoration-color: #008000\">'x'</span><span style=\"color: #000000; text-decoration-color: #000000\">: </span><span style=\"color: #008080; text-decoration-color: #008080; font-weight: bold\">0.0</span><span style=\"color: #000000; text-decoration-color: #000000; font-weight: bold\">}</span><span style=\"color: #000000; text-decoration-color: #000000\">,</span>\n",
       "<span style=\"color: #000000; text-decoration-color: #000000\">            </span><span style=\"color: #808000; text-decoration-color: #808000\">name</span><span style=\"color: #000000; text-decoration-color: #000000\">=</span><span style=\"color: #008000; text-decoration-color: #008000\">'image'</span><span style=\"color: #000000; text-decoration-color: #000000\">,</span>\n",
       "<span style=\"color: #000000; text-decoration-color: #000000\">            </span><span style=\"color: #808000; text-decoration-color: #808000\">axes_units</span><span style=\"color: #000000; text-decoration-color: #000000\">=</span><span style=\"color: #000000; text-decoration-color: #000000; font-weight: bold\">{</span><span style=\"color: #008000; text-decoration-color: #008000\">'t'</span><span style=\"color: #000000; text-decoration-color: #000000\">: </span><span style=\"color: #008000; text-decoration-color: #008000\">'millisecond'</span><span style=\"color: #000000; text-decoration-color: #000000\">, </span><span style=\"color: #008000; text-decoration-color: #008000\">'c'</span><span style=\"color: #000000; text-decoration-color: #000000\">: </span><span style=\"color: #800080; text-decoration-color: #800080; font-style: italic\">None</span><span style=\"color: #000000; text-decoration-color: #000000\">, </span><span style=\"color: #008000; text-decoration-color: #008000\">'z'</span><span style=\"color: #000000; text-decoration-color: #000000\">: </span><span style=\"color: #008000; text-decoration-color: #008000\">'micrometer'</span><span style=\"color: #000000; text-decoration-color: #000000\">, </span><span style=\"color: #008000; text-decoration-color: #008000\">'y'</span><span style=\"color: #000000; text-decoration-color: #000000\">: </span><span style=\"color: #008000; text-decoration-color: #008000\">'micrometer'</span><span style=\"color: #000000; text-decoration-color: #000000\">, </span><span style=\"color: #008000; text-decoration-color: #008000\">'x'</span><span style=\"color: #000000; text-decoration-color: #000000\">: </span><span style=\"color: #008000; text-decoration-color: #008000\">'micrometer'</span><span style=\"color: #000000; text-decoration-color: #000000; font-weight: bold\">}</span>\n",
       "<span style=\"color: #000000; text-decoration-color: #000000\">        </span><span style=\"color: #000000; text-decoration-color: #000000; font-weight: bold\">)</span><span style=\"color: #000000; text-decoration-color: #000000\">,</span>\n",
       "<span style=\"color: #000000; text-decoration-color: #000000\">        </span><span style=\"color: #800080; text-decoration-color: #800080; font-weight: bold\">NgffImage</span><span style=\"color: #000000; text-decoration-color: #000000; font-weight: bold\">(</span>\n",
       "<span style=\"color: #000000; text-decoration-color: #000000\">            </span><span style=\"color: #808000; text-decoration-color: #808000\">data</span><span style=\"color: #000000; text-decoration-color: #000000\">=</span><span style=\"color: #800080; text-decoration-color: #800080\">dask</span><span style=\"color: #000000; text-decoration-color: #000000\">.array&lt;from-zarr, </span><span style=\"color: #808000; text-decoration-color: #808000\">shape</span><span style=\"color: #000000; text-decoration-color: #000000\">=</span><span style=\"color: #000000; text-decoration-color: #000000; font-weight: bold\">(</span><span style=\"color: #008080; text-decoration-color: #008080; font-weight: bold\">1</span><span style=\"color: #000000; text-decoration-color: #000000\">, </span><span style=\"color: #008080; text-decoration-color: #008080; font-weight: bold\">1</span><span style=\"color: #000000; text-decoration-color: #000000\">, </span><span style=\"color: #008080; text-decoration-color: #008080; font-weight: bold\">2100</span><span style=\"color: #000000; text-decoration-color: #000000\">, </span><span style=\"color: #008080; text-decoration-color: #008080; font-weight: bold\">5120</span><span style=\"color: #000000; text-decoration-color: #000000\">, </span><span style=\"color: #008080; text-decoration-color: #008080; font-weight: bold\">3700</span><span style=\"color: #000000; text-decoration-color: #000000; font-weight: bold\">)</span><span style=\"color: #000000; text-decoration-color: #000000\">, </span><span style=\"color: #808000; text-decoration-color: #808000\">dtype</span><span style=\"color: #000000; text-decoration-color: #000000\">=</span><span style=\"color: #800080; text-decoration-color: #800080\">uint16</span><span style=\"color: #000000; text-decoration-color: #000000\">, </span><span style=\"color: #808000; text-decoration-color: #808000\">chunksize</span><span style=\"color: #000000; text-decoration-color: #000000\">=</span><span style=\"color: #000000; text-decoration-color: #000000; font-weight: bold\">(</span><span style=\"color: #008080; text-decoration-color: #008080; font-weight: bold\">1</span><span style=\"color: #000000; text-decoration-color: #000000\">, </span><span style=\"color: #008080; text-decoration-color: #008080; font-weight: bold\">1</span><span style=\"color: #000000; text-decoration-color: #000000\">, </span><span style=\"color: #008080; text-decoration-color: #008080; font-weight: bold\">1</span><span style=\"color: #000000; text-decoration-color: #000000\">, </span><span style=\"color: #008080; text-decoration-color: #008080; font-weight: bold\">5120</span><span style=\"color: #000000; text-decoration-color: #000000\">, </span>\n",
       "<span style=\"color: #008080; text-decoration-color: #008080; font-weight: bold\">3700</span><span style=\"color: #000000; text-decoration-color: #000000; font-weight: bold\">)</span><span style=\"color: #000000; text-decoration-color: #000000\">, </span><span style=\"color: #808000; text-decoration-color: #808000\">chunktype</span><span style=\"color: #000000; text-decoration-color: #000000\">=</span><span style=\"color: #800080; text-decoration-color: #800080\">numpy</span><span style=\"color: #000000; text-decoration-color: #000000\">.ndarray&gt;,</span>\n",
       "<span style=\"color: #000000; text-decoration-color: #000000\">            </span><span style=\"color: #808000; text-decoration-color: #808000\">dims</span><span style=\"color: #000000; text-decoration-color: #000000\">=</span><span style=\"color: #000000; text-decoration-color: #000000; font-weight: bold\">[</span><span style=\"color: #008000; text-decoration-color: #008000\">'t'</span><span style=\"color: #000000; text-decoration-color: #000000\">, </span><span style=\"color: #008000; text-decoration-color: #008000\">'c'</span><span style=\"color: #000000; text-decoration-color: #000000\">, </span><span style=\"color: #008000; text-decoration-color: #008000\">'z'</span><span style=\"color: #000000; text-decoration-color: #000000\">, </span><span style=\"color: #008000; text-decoration-color: #008000\">'y'</span><span style=\"color: #000000; text-decoration-color: #000000\">, </span><span style=\"color: #008000; text-decoration-color: #008000\">'x'</span><span style=\"color: #000000; text-decoration-color: #000000; font-weight: bold\">]</span><span style=\"color: #000000; text-decoration-color: #000000\">,</span>\n",
       "<span style=\"color: #000000; text-decoration-color: #000000\">            </span><span style=\"color: #808000; text-decoration-color: #808000\">scale</span><span style=\"color: #000000; text-decoration-color: #000000\">=</span><span style=\"color: #000000; text-decoration-color: #000000; font-weight: bold\">{</span><span style=\"color: #008000; text-decoration-color: #008000\">'t'</span><span style=\"color: #000000; text-decoration-color: #000000\">: </span><span style=\"color: #008080; text-decoration-color: #008080; font-weight: bold\">1.0</span><span style=\"color: #000000; text-decoration-color: #000000\">, </span><span style=\"color: #008000; text-decoration-color: #008000\">'c'</span><span style=\"color: #000000; text-decoration-color: #000000\">: </span><span style=\"color: #008080; text-decoration-color: #008080; font-weight: bold\">1.0</span><span style=\"color: #000000; text-decoration-color: #000000\">, </span><span style=\"color: #008000; text-decoration-color: #008000\">'z'</span><span style=\"color: #000000; text-decoration-color: #000000\">: </span><span style=\"color: #008080; text-decoration-color: #008080; font-weight: bold\">4.0</span><span style=\"color: #000000; text-decoration-color: #000000\">, </span><span style=\"color: #008000; text-decoration-color: #008000\">'y'</span><span style=\"color: #000000; text-decoration-color: #000000\">: </span><span style=\"color: #008080; text-decoration-color: #008080; font-weight: bold\">3.6</span><span style=\"color: #000000; text-decoration-color: #000000\">, </span><span style=\"color: #008000; text-decoration-color: #008000\">'x'</span><span style=\"color: #000000; text-decoration-color: #000000\">: </span><span style=\"color: #008080; text-decoration-color: #008080; font-weight: bold\">3.6</span><span style=\"color: #000000; text-decoration-color: #000000; font-weight: bold\">}</span><span style=\"color: #000000; text-decoration-color: #000000\">,</span>\n",
       "<span style=\"color: #000000; text-decoration-color: #000000\">            </span><span style=\"color: #808000; text-decoration-color: #808000\">translation</span><span style=\"color: #000000; text-decoration-color: #000000\">=</span><span style=\"color: #000000; text-decoration-color: #000000; font-weight: bold\">{</span><span style=\"color: #008000; text-decoration-color: #008000\">'t'</span><span style=\"color: #000000; text-decoration-color: #000000\">: </span><span style=\"color: #008080; text-decoration-color: #008080; font-weight: bold\">0.0</span><span style=\"color: #000000; text-decoration-color: #000000\">, </span><span style=\"color: #008000; text-decoration-color: #008000\">'c'</span><span style=\"color: #000000; text-decoration-color: #000000\">: </span><span style=\"color: #008080; text-decoration-color: #008080; font-weight: bold\">0.0</span><span style=\"color: #000000; text-decoration-color: #000000\">, </span><span style=\"color: #008000; text-decoration-color: #008000\">'z'</span><span style=\"color: #000000; text-decoration-color: #000000\">: </span><span style=\"color: #008080; text-decoration-color: #008080; font-weight: bold\">0.0</span><span style=\"color: #000000; text-decoration-color: #000000\">, </span><span style=\"color: #008000; text-decoration-color: #008000\">'y'</span><span style=\"color: #000000; text-decoration-color: #000000\">: </span><span style=\"color: #008080; text-decoration-color: #008080; font-weight: bold\">0.0</span><span style=\"color: #000000; text-decoration-color: #000000\">, </span><span style=\"color: #008000; text-decoration-color: #008000\">'x'</span><span style=\"color: #000000; text-decoration-color: #000000\">: </span><span style=\"color: #008080; text-decoration-color: #008080; font-weight: bold\">0.0</span><span style=\"color: #000000; text-decoration-color: #000000; font-weight: bold\">}</span><span style=\"color: #000000; text-decoration-color: #000000\">,</span>\n",
       "<span style=\"color: #000000; text-decoration-color: #000000\">            </span><span style=\"color: #808000; text-decoration-color: #808000\">name</span><span style=\"color: #000000; text-decoration-color: #000000\">=</span><span style=\"color: #008000; text-decoration-color: #008000\">'image'</span><span style=\"color: #000000; text-decoration-color: #000000\">,</span>\n",
       "<span style=\"color: #000000; text-decoration-color: #000000\">            </span><span style=\"color: #808000; text-decoration-color: #808000\">axes_units</span><span style=\"color: #000000; text-decoration-color: #000000\">=</span><span style=\"color: #000000; text-decoration-color: #000000; font-weight: bold\">{</span><span style=\"color: #008000; text-decoration-color: #008000\">'t'</span><span style=\"color: #000000; text-decoration-color: #000000\">: </span><span style=\"color: #008000; text-decoration-color: #008000\">'millisecond'</span><span style=\"color: #000000; text-decoration-color: #000000\">, </span><span style=\"color: #008000; text-decoration-color: #008000\">'c'</span><span style=\"color: #000000; text-decoration-color: #000000\">: </span><span style=\"color: #800080; text-decoration-color: #800080; font-style: italic\">None</span><span style=\"color: #000000; text-decoration-color: #000000\">, </span><span style=\"color: #008000; text-decoration-color: #008000\">'z'</span><span style=\"color: #000000; text-decoration-color: #000000\">: </span><span style=\"color: #008000; text-decoration-color: #008000\">'micrometer'</span><span style=\"color: #000000; text-decoration-color: #000000\">, </span><span style=\"color: #008000; text-decoration-color: #008000\">'y'</span><span style=\"color: #000000; text-decoration-color: #000000\">: </span><span style=\"color: #008000; text-decoration-color: #008000\">'micrometer'</span><span style=\"color: #000000; text-decoration-color: #000000\">, </span><span style=\"color: #008000; text-decoration-color: #008000\">'x'</span><span style=\"color: #000000; text-decoration-color: #000000\">: </span><span style=\"color: #008000; text-decoration-color: #008000\">'micrometer'</span><span style=\"color: #000000; text-decoration-color: #000000; font-weight: bold\">}</span>\n",
       "<span style=\"color: #000000; text-decoration-color: #000000\">        </span><span style=\"color: #000000; text-decoration-color: #000000; font-weight: bold\">)</span><span style=\"color: #000000; text-decoration-color: #000000\">,</span>\n",
       "<span style=\"color: #000000; text-decoration-color: #000000\">        </span><span style=\"color: #800080; text-decoration-color: #800080; font-weight: bold\">NgffImage</span><span style=\"color: #000000; text-decoration-color: #000000; font-weight: bold\">(</span>\n",
       "<span style=\"color: #000000; text-decoration-color: #000000\">            </span><span style=\"color: #808000; text-decoration-color: #808000\">data</span><span style=\"color: #000000; text-decoration-color: #000000\">=</span><span style=\"color: #800080; text-decoration-color: #800080\">dask</span><span style=\"color: #000000; text-decoration-color: #000000\">.array&lt;from-zarr, </span><span style=\"color: #808000; text-decoration-color: #808000\">shape</span><span style=\"color: #000000; text-decoration-color: #000000\">=</span><span style=\"color: #000000; text-decoration-color: #000000; font-weight: bold\">(</span><span style=\"color: #008080; text-decoration-color: #008080; font-weight: bold\">1</span><span style=\"color: #000000; text-decoration-color: #000000\">, </span><span style=\"color: #008080; text-decoration-color: #008080; font-weight: bold\">1</span><span style=\"color: #000000; text-decoration-color: #000000\">, </span><span style=\"color: #008080; text-decoration-color: #008080; font-weight: bold\">1050</span><span style=\"color: #000000; text-decoration-color: #000000\">, </span><span style=\"color: #008080; text-decoration-color: #008080; font-weight: bold\">2560</span><span style=\"color: #000000; text-decoration-color: #000000\">, </span><span style=\"color: #008080; text-decoration-color: #008080; font-weight: bold\">1850</span><span style=\"color: #000000; text-decoration-color: #000000; font-weight: bold\">)</span><span style=\"color: #000000; text-decoration-color: #000000\">, </span><span style=\"color: #808000; text-decoration-color: #808000\">dtype</span><span style=\"color: #000000; text-decoration-color: #000000\">=</span><span style=\"color: #800080; text-decoration-color: #800080\">uint16</span><span style=\"color: #000000; text-decoration-color: #000000\">, </span><span style=\"color: #808000; text-decoration-color: #808000\">chunksize</span><span style=\"color: #000000; text-decoration-color: #000000\">=</span><span style=\"color: #000000; text-decoration-color: #000000; font-weight: bold\">(</span><span style=\"color: #008080; text-decoration-color: #008080; font-weight: bold\">1</span><span style=\"color: #000000; text-decoration-color: #000000\">, </span><span style=\"color: #008080; text-decoration-color: #008080; font-weight: bold\">1</span><span style=\"color: #000000; text-decoration-color: #000000\">, </span><span style=\"color: #008080; text-decoration-color: #008080; font-weight: bold\">1</span><span style=\"color: #000000; text-decoration-color: #000000\">, </span><span style=\"color: #008080; text-decoration-color: #008080; font-weight: bold\">2560</span><span style=\"color: #000000; text-decoration-color: #000000\">, </span>\n",
       "<span style=\"color: #008080; text-decoration-color: #008080; font-weight: bold\">1850</span><span style=\"color: #000000; text-decoration-color: #000000; font-weight: bold\">)</span><span style=\"color: #000000; text-decoration-color: #000000\">, </span><span style=\"color: #808000; text-decoration-color: #808000\">chunktype</span><span style=\"color: #000000; text-decoration-color: #000000\">=</span><span style=\"color: #800080; text-decoration-color: #800080\">numpy</span><span style=\"color: #000000; text-decoration-color: #000000\">.ndarray&gt;,</span>\n",
       "<span style=\"color: #000000; text-decoration-color: #000000\">            </span><span style=\"color: #808000; text-decoration-color: #808000\">dims</span><span style=\"color: #000000; text-decoration-color: #000000\">=</span><span style=\"color: #000000; text-decoration-color: #000000; font-weight: bold\">[</span><span style=\"color: #008000; text-decoration-color: #008000\">'t'</span><span style=\"color: #000000; text-decoration-color: #000000\">, </span><span style=\"color: #008000; text-decoration-color: #008000\">'c'</span><span style=\"color: #000000; text-decoration-color: #000000\">, </span><span style=\"color: #008000; text-decoration-color: #008000\">'z'</span><span style=\"color: #000000; text-decoration-color: #000000\">, </span><span style=\"color: #008000; text-decoration-color: #008000\">'y'</span><span style=\"color: #000000; text-decoration-color: #000000\">, </span><span style=\"color: #008000; text-decoration-color: #008000\">'x'</span><span style=\"color: #000000; text-decoration-color: #000000; font-weight: bold\">]</span><span style=\"color: #000000; text-decoration-color: #000000\">,</span>\n",
       "<span style=\"color: #000000; text-decoration-color: #000000\">            </span><span style=\"color: #808000; text-decoration-color: #808000\">scale</span><span style=\"color: #000000; text-decoration-color: #000000\">=</span><span style=\"color: #000000; text-decoration-color: #000000; font-weight: bold\">{</span><span style=\"color: #008000; text-decoration-color: #008000\">'t'</span><span style=\"color: #000000; text-decoration-color: #000000\">: </span><span style=\"color: #008080; text-decoration-color: #008080; font-weight: bold\">1.0</span><span style=\"color: #000000; text-decoration-color: #000000\">, </span><span style=\"color: #008000; text-decoration-color: #008000\">'c'</span><span style=\"color: #000000; text-decoration-color: #000000\">: </span><span style=\"color: #008080; text-decoration-color: #008080; font-weight: bold\">1.0</span><span style=\"color: #000000; text-decoration-color: #000000\">, </span><span style=\"color: #008000; text-decoration-color: #008000\">'z'</span><span style=\"color: #000000; text-decoration-color: #000000\">: </span><span style=\"color: #008080; text-decoration-color: #008080; font-weight: bold\">8.0</span><span style=\"color: #000000; text-decoration-color: #000000\">, </span><span style=\"color: #008000; text-decoration-color: #008000\">'y'</span><span style=\"color: #000000; text-decoration-color: #000000\">: </span><span style=\"color: #008080; text-decoration-color: #008080; font-weight: bold\">7.2</span><span style=\"color: #000000; text-decoration-color: #000000\">, </span><span style=\"color: #008000; text-decoration-color: #008000\">'x'</span><span style=\"color: #000000; text-decoration-color: #000000\">: </span><span style=\"color: #008080; text-decoration-color: #008080; font-weight: bold\">7.2</span><span style=\"color: #000000; text-decoration-color: #000000; font-weight: bold\">}</span><span style=\"color: #000000; text-decoration-color: #000000\">,</span>\n",
       "<span style=\"color: #000000; text-decoration-color: #000000\">            </span><span style=\"color: #808000; text-decoration-color: #808000\">translation</span><span style=\"color: #000000; text-decoration-color: #000000\">=</span><span style=\"color: #000000; text-decoration-color: #000000; font-weight: bold\">{</span><span style=\"color: #008000; text-decoration-color: #008000\">'t'</span><span style=\"color: #000000; text-decoration-color: #000000\">: </span><span style=\"color: #008080; text-decoration-color: #008080; font-weight: bold\">0.0</span><span style=\"color: #000000; text-decoration-color: #000000\">, </span><span style=\"color: #008000; text-decoration-color: #008000\">'c'</span><span style=\"color: #000000; text-decoration-color: #000000\">: </span><span style=\"color: #008080; text-decoration-color: #008080; font-weight: bold\">0.0</span><span style=\"color: #000000; text-decoration-color: #000000\">, </span><span style=\"color: #008000; text-decoration-color: #008000\">'z'</span><span style=\"color: #000000; text-decoration-color: #000000\">: </span><span style=\"color: #008080; text-decoration-color: #008080; font-weight: bold\">0.0</span><span style=\"color: #000000; text-decoration-color: #000000\">, </span><span style=\"color: #008000; text-decoration-color: #008000\">'y'</span><span style=\"color: #000000; text-decoration-color: #000000\">: </span><span style=\"color: #008080; text-decoration-color: #008080; font-weight: bold\">0.0</span><span style=\"color: #000000; text-decoration-color: #000000\">, </span><span style=\"color: #008000; text-decoration-color: #008000\">'x'</span><span style=\"color: #000000; text-decoration-color: #000000\">: </span><span style=\"color: #008080; text-decoration-color: #008080; font-weight: bold\">0.0</span><span style=\"color: #000000; text-decoration-color: #000000; font-weight: bold\">}</span><span style=\"color: #000000; text-decoration-color: #000000\">,</span>\n",
       "<span style=\"color: #000000; text-decoration-color: #000000\">            </span><span style=\"color: #808000; text-decoration-color: #808000\">name</span><span style=\"color: #000000; text-decoration-color: #000000\">=</span><span style=\"color: #008000; text-decoration-color: #008000\">'image'</span><span style=\"color: #000000; text-decoration-color: #000000\">,</span>\n",
       "<span style=\"color: #000000; text-decoration-color: #000000\">            </span><span style=\"color: #808000; text-decoration-color: #808000\">axes_units</span><span style=\"color: #000000; text-decoration-color: #000000\">=</span><span style=\"color: #000000; text-decoration-color: #000000; font-weight: bold\">{</span><span style=\"color: #008000; text-decoration-color: #008000\">'t'</span><span style=\"color: #000000; text-decoration-color: #000000\">: </span><span style=\"color: #008000; text-decoration-color: #008000\">'millisecond'</span><span style=\"color: #000000; text-decoration-color: #000000\">, </span><span style=\"color: #008000; text-decoration-color: #008000\">'c'</span><span style=\"color: #000000; text-decoration-color: #000000\">: </span><span style=\"color: #800080; text-decoration-color: #800080; font-style: italic\">None</span><span style=\"color: #000000; text-decoration-color: #000000\">, </span><span style=\"color: #008000; text-decoration-color: #008000\">'z'</span><span style=\"color: #000000; text-decoration-color: #000000\">: </span><span style=\"color: #008000; text-decoration-color: #008000\">'micrometer'</span><span style=\"color: #000000; text-decoration-color: #000000\">, </span><span style=\"color: #008000; text-decoration-color: #008000\">'y'</span><span style=\"color: #000000; text-decoration-color: #000000\">: </span><span style=\"color: #008000; text-decoration-color: #008000\">'micrometer'</span><span style=\"color: #000000; text-decoration-color: #000000\">, </span><span style=\"color: #008000; text-decoration-color: #008000\">'x'</span><span style=\"color: #000000; text-decoration-color: #000000\">: </span><span style=\"color: #008000; text-decoration-color: #008000\">'micrometer'</span><span style=\"color: #000000; text-decoration-color: #000000; font-weight: bold\">}</span>\n",
       "<span style=\"color: #000000; text-decoration-color: #000000\">        </span><span style=\"color: #000000; text-decoration-color: #000000; font-weight: bold\">)</span><span style=\"color: #000000; text-decoration-color: #000000\">,</span>\n",
       "<span style=\"color: #000000; text-decoration-color: #000000\">        </span><span style=\"color: #800080; text-decoration-color: #800080; font-weight: bold\">NgffImage</span><span style=\"color: #000000; text-decoration-color: #000000; font-weight: bold\">(</span>\n",
       "<span style=\"color: #000000; text-decoration-color: #000000\">            </span><span style=\"color: #808000; text-decoration-color: #808000\">data</span><span style=\"color: #000000; text-decoration-color: #000000\">=</span><span style=\"color: #800080; text-decoration-color: #800080\">dask</span><span style=\"color: #000000; text-decoration-color: #000000\">.array&lt;from-zarr, </span><span style=\"color: #808000; text-decoration-color: #808000\">shape</span><span style=\"color: #000000; text-decoration-color: #000000\">=</span><span style=\"color: #000000; text-decoration-color: #000000; font-weight: bold\">(</span><span style=\"color: #008080; text-decoration-color: #008080; font-weight: bold\">1</span><span style=\"color: #000000; text-decoration-color: #000000\">, </span><span style=\"color: #008080; text-decoration-color: #008080; font-weight: bold\">1</span><span style=\"color: #000000; text-decoration-color: #000000\">, </span><span style=\"color: #008080; text-decoration-color: #008080; font-weight: bold\">525</span><span style=\"color: #000000; text-decoration-color: #000000\">, </span><span style=\"color: #008080; text-decoration-color: #008080; font-weight: bold\">1280</span><span style=\"color: #000000; text-decoration-color: #000000\">, </span><span style=\"color: #008080; text-decoration-color: #008080; font-weight: bold\">925</span><span style=\"color: #000000; text-decoration-color: #000000; font-weight: bold\">)</span><span style=\"color: #000000; text-decoration-color: #000000\">, </span><span style=\"color: #808000; text-decoration-color: #808000\">dtype</span><span style=\"color: #000000; text-decoration-color: #000000\">=</span><span style=\"color: #800080; text-decoration-color: #800080\">uint16</span><span style=\"color: #000000; text-decoration-color: #000000\">, </span><span style=\"color: #808000; text-decoration-color: #808000\">chunksize</span><span style=\"color: #000000; text-decoration-color: #000000\">=</span><span style=\"color: #000000; text-decoration-color: #000000; font-weight: bold\">(</span><span style=\"color: #008080; text-decoration-color: #008080; font-weight: bold\">1</span><span style=\"color: #000000; text-decoration-color: #000000\">, </span><span style=\"color: #008080; text-decoration-color: #008080; font-weight: bold\">1</span><span style=\"color: #000000; text-decoration-color: #000000\">, </span><span style=\"color: #008080; text-decoration-color: #008080; font-weight: bold\">1</span><span style=\"color: #000000; text-decoration-color: #000000\">, </span><span style=\"color: #008080; text-decoration-color: #008080; font-weight: bold\">1280</span><span style=\"color: #000000; text-decoration-color: #000000\">, </span><span style=\"color: #008080; text-decoration-color: #008080; font-weight: bold\">925</span><span style=\"color: #000000; text-decoration-color: #000000; font-weight: bold\">)</span><span style=\"color: #000000; text-decoration-color: #000000\">, </span>\n",
       "<span style=\"color: #808000; text-decoration-color: #808000\">chunktype</span><span style=\"color: #000000; text-decoration-color: #000000\">=</span><span style=\"color: #800080; text-decoration-color: #800080\">numpy</span><span style=\"color: #000000; text-decoration-color: #000000\">.ndarray&gt;,</span>\n",
       "<span style=\"color: #000000; text-decoration-color: #000000\">            </span><span style=\"color: #808000; text-decoration-color: #808000\">dims</span><span style=\"color: #000000; text-decoration-color: #000000\">=</span><span style=\"color: #000000; text-decoration-color: #000000; font-weight: bold\">[</span><span style=\"color: #008000; text-decoration-color: #008000\">'t'</span><span style=\"color: #000000; text-decoration-color: #000000\">, </span><span style=\"color: #008000; text-decoration-color: #008000\">'c'</span><span style=\"color: #000000; text-decoration-color: #000000\">, </span><span style=\"color: #008000; text-decoration-color: #008000\">'z'</span><span style=\"color: #000000; text-decoration-color: #000000\">, </span><span style=\"color: #008000; text-decoration-color: #008000\">'y'</span><span style=\"color: #000000; text-decoration-color: #000000\">, </span><span style=\"color: #008000; text-decoration-color: #008000\">'x'</span><span style=\"color: #000000; text-decoration-color: #000000; font-weight: bold\">]</span><span style=\"color: #000000; text-decoration-color: #000000\">,</span>\n",
       "<span style=\"color: #000000; text-decoration-color: #000000\">            </span><span style=\"color: #808000; text-decoration-color: #808000\">scale</span><span style=\"color: #000000; text-decoration-color: #000000\">=</span><span style=\"color: #000000; text-decoration-color: #000000; font-weight: bold\">{</span><span style=\"color: #008000; text-decoration-color: #008000\">'t'</span><span style=\"color: #000000; text-decoration-color: #000000\">: </span><span style=\"color: #008080; text-decoration-color: #008080; font-weight: bold\">1.0</span><span style=\"color: #000000; text-decoration-color: #000000\">, </span><span style=\"color: #008000; text-decoration-color: #008000\">'c'</span><span style=\"color: #000000; text-decoration-color: #000000\">: </span><span style=\"color: #008080; text-decoration-color: #008080; font-weight: bold\">1.0</span><span style=\"color: #000000; text-decoration-color: #000000\">, </span><span style=\"color: #008000; text-decoration-color: #008000\">'z'</span><span style=\"color: #000000; text-decoration-color: #000000\">: </span><span style=\"color: #008080; text-decoration-color: #008080; font-weight: bold\">16.0</span><span style=\"color: #000000; text-decoration-color: #000000\">, </span><span style=\"color: #008000; text-decoration-color: #008000\">'y'</span><span style=\"color: #000000; text-decoration-color: #000000\">: </span><span style=\"color: #008080; text-decoration-color: #008080; font-weight: bold\">14.4</span><span style=\"color: #000000; text-decoration-color: #000000\">, </span><span style=\"color: #008000; text-decoration-color: #008000\">'x'</span><span style=\"color: #000000; text-decoration-color: #000000\">: </span><span style=\"color: #008080; text-decoration-color: #008080; font-weight: bold\">14.4</span><span style=\"color: #000000; text-decoration-color: #000000; font-weight: bold\">}</span><span style=\"color: #000000; text-decoration-color: #000000\">,</span>\n",
       "<span style=\"color: #000000; text-decoration-color: #000000\">            </span><span style=\"color: #808000; text-decoration-color: #808000\">translation</span><span style=\"color: #000000; text-decoration-color: #000000\">=</span><span style=\"color: #000000; text-decoration-color: #000000; font-weight: bold\">{</span><span style=\"color: #008000; text-decoration-color: #008000\">'t'</span><span style=\"color: #000000; text-decoration-color: #000000\">: </span><span style=\"color: #008080; text-decoration-color: #008080; font-weight: bold\">0.0</span><span style=\"color: #000000; text-decoration-color: #000000\">, </span><span style=\"color: #008000; text-decoration-color: #008000\">'c'</span><span style=\"color: #000000; text-decoration-color: #000000\">: </span><span style=\"color: #008080; text-decoration-color: #008080; font-weight: bold\">0.0</span><span style=\"color: #000000; text-decoration-color: #000000\">, </span><span style=\"color: #008000; text-decoration-color: #008000\">'z'</span><span style=\"color: #000000; text-decoration-color: #000000\">: </span><span style=\"color: #008080; text-decoration-color: #008080; font-weight: bold\">0.0</span><span style=\"color: #000000; text-decoration-color: #000000\">, </span><span style=\"color: #008000; text-decoration-color: #008000\">'y'</span><span style=\"color: #000000; text-decoration-color: #000000\">: </span><span style=\"color: #008080; text-decoration-color: #008080; font-weight: bold\">0.0</span><span style=\"color: #000000; text-decoration-color: #000000\">, </span><span style=\"color: #008000; text-decoration-color: #008000\">'x'</span><span style=\"color: #000000; text-decoration-color: #000000\">: </span><span style=\"color: #008080; text-decoration-color: #008080; font-weight: bold\">0.0</span><span style=\"color: #000000; text-decoration-color: #000000; font-weight: bold\">}</span><span style=\"color: #000000; text-decoration-color: #000000\">,</span>\n",
       "<span style=\"color: #000000; text-decoration-color: #000000\">            </span><span style=\"color: #808000; text-decoration-color: #808000\">name</span><span style=\"color: #000000; text-decoration-color: #000000\">=</span><span style=\"color: #008000; text-decoration-color: #008000\">'image'</span><span style=\"color: #000000; text-decoration-color: #000000\">,</span>\n",
       "<span style=\"color: #000000; text-decoration-color: #000000\">            </span><span style=\"color: #808000; text-decoration-color: #808000\">axes_units</span><span style=\"color: #000000; text-decoration-color: #000000\">=</span><span style=\"color: #000000; text-decoration-color: #000000; font-weight: bold\">{</span><span style=\"color: #008000; text-decoration-color: #008000\">'t'</span><span style=\"color: #000000; text-decoration-color: #000000\">: </span><span style=\"color: #008000; text-decoration-color: #008000\">'millisecond'</span><span style=\"color: #000000; text-decoration-color: #000000\">, </span><span style=\"color: #008000; text-decoration-color: #008000\">'c'</span><span style=\"color: #000000; text-decoration-color: #000000\">: </span><span style=\"color: #800080; text-decoration-color: #800080; font-style: italic\">None</span><span style=\"color: #000000; text-decoration-color: #000000\">, </span><span style=\"color: #008000; text-decoration-color: #008000\">'z'</span><span style=\"color: #000000; text-decoration-color: #000000\">: </span><span style=\"color: #008000; text-decoration-color: #008000\">'micrometer'</span><span style=\"color: #000000; text-decoration-color: #000000\">, </span><span style=\"color: #008000; text-decoration-color: #008000\">'y'</span><span style=\"color: #000000; text-decoration-color: #000000\">: </span><span style=\"color: #008000; text-decoration-color: #008000\">'micrometer'</span><span style=\"color: #000000; text-decoration-color: #000000\">, </span><span style=\"color: #008000; text-decoration-color: #008000\">'x'</span><span style=\"color: #000000; text-decoration-color: #000000\">: </span><span style=\"color: #008000; text-decoration-color: #008000\">'micrometer'</span><span style=\"color: #000000; text-decoration-color: #000000; font-weight: bold\">}</span>\n",
       "<span style=\"color: #000000; text-decoration-color: #000000\">        </span><span style=\"color: #000000; text-decoration-color: #000000; font-weight: bold\">)</span><span style=\"color: #000000; text-decoration-color: #000000\">,</span>\n",
       "<span style=\"color: #000000; text-decoration-color: #000000\">        </span><span style=\"color: #800080; text-decoration-color: #800080; font-weight: bold\">NgffImage</span><span style=\"color: #000000; text-decoration-color: #000000; font-weight: bold\">(</span>\n",
       "<span style=\"color: #000000; text-decoration-color: #000000\">            </span><span style=\"color: #808000; text-decoration-color: #808000\">data</span><span style=\"color: #000000; text-decoration-color: #000000\">=</span><span style=\"color: #800080; text-decoration-color: #800080\">dask</span><span style=\"color: #000000; text-decoration-color: #000000\">.array&lt;from-zarr, </span><span style=\"color: #808000; text-decoration-color: #808000\">shape</span><span style=\"color: #000000; text-decoration-color: #000000\">=</span><span style=\"color: #000000; text-decoration-color: #000000; font-weight: bold\">(</span><span style=\"color: #008080; text-decoration-color: #008080; font-weight: bold\">1</span><span style=\"color: #000000; text-decoration-color: #000000\">, </span><span style=\"color: #008080; text-decoration-color: #008080; font-weight: bold\">1</span><span style=\"color: #000000; text-decoration-color: #000000\">, </span><span style=\"color: #008080; text-decoration-color: #008080; font-weight: bold\">262</span><span style=\"color: #000000; text-decoration-color: #000000\">, </span><span style=\"color: #008080; text-decoration-color: #008080; font-weight: bold\">640</span><span style=\"color: #000000; text-decoration-color: #000000\">, </span><span style=\"color: #008080; text-decoration-color: #008080; font-weight: bold\">462</span><span style=\"color: #000000; text-decoration-color: #000000; font-weight: bold\">)</span><span style=\"color: #000000; text-decoration-color: #000000\">, </span><span style=\"color: #808000; text-decoration-color: #808000\">dtype</span><span style=\"color: #000000; text-decoration-color: #000000\">=</span><span style=\"color: #800080; text-decoration-color: #800080\">uint16</span><span style=\"color: #000000; text-decoration-color: #000000\">, </span><span style=\"color: #808000; text-decoration-color: #808000\">chunksize</span><span style=\"color: #000000; text-decoration-color: #000000\">=</span><span style=\"color: #000000; text-decoration-color: #000000; font-weight: bold\">(</span><span style=\"color: #008080; text-decoration-color: #008080; font-weight: bold\">1</span><span style=\"color: #000000; text-decoration-color: #000000\">, </span><span style=\"color: #008080; text-decoration-color: #008080; font-weight: bold\">1</span><span style=\"color: #000000; text-decoration-color: #000000\">, </span><span style=\"color: #008080; text-decoration-color: #008080; font-weight: bold\">1</span><span style=\"color: #000000; text-decoration-color: #000000\">, </span><span style=\"color: #008080; text-decoration-color: #008080; font-weight: bold\">640</span><span style=\"color: #000000; text-decoration-color: #000000\">, </span><span style=\"color: #008080; text-decoration-color: #008080; font-weight: bold\">462</span><span style=\"color: #000000; text-decoration-color: #000000; font-weight: bold\">)</span><span style=\"color: #000000; text-decoration-color: #000000\">, </span>\n",
       "<span style=\"color: #808000; text-decoration-color: #808000\">chunktype</span><span style=\"color: #000000; text-decoration-color: #000000\">=</span><span style=\"color: #800080; text-decoration-color: #800080\">numpy</span><span style=\"color: #000000; text-decoration-color: #000000\">.ndarray</span><span style=\"font-weight: bold\">&gt;</span>,\n",
       "            <span style=\"color: #808000; text-decoration-color: #808000\">dims</span>=<span style=\"font-weight: bold\">[</span><span style=\"color: #008000; text-decoration-color: #008000\">'t'</span>, <span style=\"color: #008000; text-decoration-color: #008000\">'c'</span>, <span style=\"color: #008000; text-decoration-color: #008000\">'z'</span>, <span style=\"color: #008000; text-decoration-color: #008000\">'y'</span>, <span style=\"color: #008000; text-decoration-color: #008000\">'x'</span><span style=\"font-weight: bold\">]</span>,\n",
       "            <span style=\"color: #808000; text-decoration-color: #808000\">scale</span>=<span style=\"font-weight: bold\">{</span><span style=\"color: #008000; text-decoration-color: #008000\">'t'</span>: <span style=\"color: #008080; text-decoration-color: #008080; font-weight: bold\">1.0</span>, <span style=\"color: #008000; text-decoration-color: #008000\">'c'</span>: <span style=\"color: #008080; text-decoration-color: #008080; font-weight: bold\">1.0</span>, <span style=\"color: #008000; text-decoration-color: #008000\">'z'</span>: <span style=\"color: #008080; text-decoration-color: #008080; font-weight: bold\">32.0</span>, <span style=\"color: #008000; text-decoration-color: #008000\">'y'</span>: <span style=\"color: #008080; text-decoration-color: #008080; font-weight: bold\">28.8</span>, <span style=\"color: #008000; text-decoration-color: #008000\">'x'</span>: <span style=\"color: #008080; text-decoration-color: #008080; font-weight: bold\">28.8</span><span style=\"font-weight: bold\">}</span>,\n",
       "            <span style=\"color: #808000; text-decoration-color: #808000\">translation</span>=<span style=\"font-weight: bold\">{</span><span style=\"color: #008000; text-decoration-color: #008000\">'t'</span>: <span style=\"color: #008080; text-decoration-color: #008080; font-weight: bold\">0.0</span>, <span style=\"color: #008000; text-decoration-color: #008000\">'c'</span>: <span style=\"color: #008080; text-decoration-color: #008080; font-weight: bold\">0.0</span>, <span style=\"color: #008000; text-decoration-color: #008000\">'z'</span>: <span style=\"color: #008080; text-decoration-color: #008080; font-weight: bold\">0.0</span>, <span style=\"color: #008000; text-decoration-color: #008000\">'y'</span>: <span style=\"color: #008080; text-decoration-color: #008080; font-weight: bold\">0.0</span>, <span style=\"color: #008000; text-decoration-color: #008000\">'x'</span>: <span style=\"color: #008080; text-decoration-color: #008080; font-weight: bold\">0.0</span><span style=\"font-weight: bold\">}</span>,\n",
       "            <span style=\"color: #808000; text-decoration-color: #808000\">name</span>=<span style=\"color: #008000; text-decoration-color: #008000\">'image'</span>,\n",
       "            <span style=\"color: #808000; text-decoration-color: #808000\">axes_units</span>=<span style=\"font-weight: bold\">{</span><span style=\"color: #008000; text-decoration-color: #008000\">'t'</span>: <span style=\"color: #008000; text-decoration-color: #008000\">'millisecond'</span>, <span style=\"color: #008000; text-decoration-color: #008000\">'c'</span>: <span style=\"color: #800080; text-decoration-color: #800080; font-style: italic\">None</span>, <span style=\"color: #008000; text-decoration-color: #008000\">'z'</span>: <span style=\"color: #008000; text-decoration-color: #008000\">'micrometer'</span>, <span style=\"color: #008000; text-decoration-color: #008000\">'y'</span>: <span style=\"color: #008000; text-decoration-color: #008000\">'micrometer'</span>, <span style=\"color: #008000; text-decoration-color: #008000\">'x'</span>: <span style=\"color: #008000; text-decoration-color: #008000\">'micrometer'</span><span style=\"font-weight: bold\">}</span>\n",
       "        <span style=\"font-weight: bold\">)</span>\n",
       "    <span style=\"font-weight: bold\">]</span>,\n",
       "    <span style=\"color: #808000; text-decoration-color: #808000\">metadata</span>=<span style=\"color: #800080; text-decoration-color: #800080; font-weight: bold\">Metadata</span><span style=\"font-weight: bold\">(</span>\n",
       "        <span style=\"color: #808000; text-decoration-color: #808000\">axes</span>=<span style=\"font-weight: bold\">[</span>\n",
       "            <span style=\"color: #800080; text-decoration-color: #800080; font-weight: bold\">Axis</span><span style=\"font-weight: bold\">(</span><span style=\"color: #808000; text-decoration-color: #808000\">name</span>=<span style=\"color: #008000; text-decoration-color: #008000\">'t'</span>, <span style=\"color: #808000; text-decoration-color: #808000\">type</span>=<span style=\"color: #008000; text-decoration-color: #008000\">'time'</span>, <span style=\"color: #808000; text-decoration-color: #808000\">unit</span>=<span style=\"color: #008000; text-decoration-color: #008000\">'millisecond'</span><span style=\"font-weight: bold\">)</span>,\n",
       "            <span style=\"color: #800080; text-decoration-color: #800080; font-weight: bold\">Axis</span><span style=\"font-weight: bold\">(</span><span style=\"color: #808000; text-decoration-color: #808000\">name</span>=<span style=\"color: #008000; text-decoration-color: #008000\">'c'</span>, <span style=\"color: #808000; text-decoration-color: #808000\">type</span>=<span style=\"color: #008000; text-decoration-color: #008000\">'channel'</span>, <span style=\"color: #808000; text-decoration-color: #808000\">unit</span>=<span style=\"color: #800080; text-decoration-color: #800080; font-style: italic\">None</span><span style=\"font-weight: bold\">)</span>,\n",
       "            <span style=\"color: #800080; text-decoration-color: #800080; font-weight: bold\">Axis</span><span style=\"font-weight: bold\">(</span><span style=\"color: #808000; text-decoration-color: #808000\">name</span>=<span style=\"color: #008000; text-decoration-color: #008000\">'z'</span>, <span style=\"color: #808000; text-decoration-color: #808000\">type</span>=<span style=\"color: #008000; text-decoration-color: #008000\">'space'</span>, <span style=\"color: #808000; text-decoration-color: #808000\">unit</span>=<span style=\"color: #008000; text-decoration-color: #008000\">'micrometer'</span><span style=\"font-weight: bold\">)</span>,\n",
       "            <span style=\"color: #800080; text-decoration-color: #800080; font-weight: bold\">Axis</span><span style=\"font-weight: bold\">(</span><span style=\"color: #808000; text-decoration-color: #808000\">name</span>=<span style=\"color: #008000; text-decoration-color: #008000\">'y'</span>, <span style=\"color: #808000; text-decoration-color: #808000\">type</span>=<span style=\"color: #008000; text-decoration-color: #008000\">'space'</span>, <span style=\"color: #808000; text-decoration-color: #808000\">unit</span>=<span style=\"color: #008000; text-decoration-color: #008000\">'micrometer'</span><span style=\"font-weight: bold\">)</span>,\n",
       "            <span style=\"color: #800080; text-decoration-color: #800080; font-weight: bold\">Axis</span><span style=\"font-weight: bold\">(</span><span style=\"color: #808000; text-decoration-color: #808000\">name</span>=<span style=\"color: #008000; text-decoration-color: #008000\">'x'</span>, <span style=\"color: #808000; text-decoration-color: #808000\">type</span>=<span style=\"color: #008000; text-decoration-color: #008000\">'space'</span>, <span style=\"color: #808000; text-decoration-color: #808000\">unit</span>=<span style=\"color: #008000; text-decoration-color: #008000\">'micrometer'</span><span style=\"font-weight: bold\">)</span>\n",
       "        <span style=\"font-weight: bold\">]</span>,\n",
       "        <span style=\"color: #808000; text-decoration-color: #808000\">datasets</span>=<span style=\"font-weight: bold\">[</span>\n",
       "            <span style=\"color: #800080; text-decoration-color: #800080; font-weight: bold\">Dataset</span><span style=\"font-weight: bold\">(</span><span style=\"color: #808000; text-decoration-color: #808000\">path</span>=<span style=\"color: #008000; text-decoration-color: #008000\">'0'</span>, <span style=\"color: #808000; text-decoration-color: #808000\">coordinateTransformations</span>=<span style=\"font-weight: bold\">[</span><span style=\"color: #800080; text-decoration-color: #800080; font-weight: bold\">Scale</span><span style=\"font-weight: bold\">(</span><span style=\"color: #808000; text-decoration-color: #808000\">scale</span>=<span style=\"font-weight: bold\">[</span><span style=\"color: #008080; text-decoration-color: #008080; font-weight: bold\">1.0</span>, <span style=\"color: #008080; text-decoration-color: #008080; font-weight: bold\">1.0</span>, <span style=\"color: #008080; text-decoration-color: #008080; font-weight: bold\">2.0</span>, <span style=\"color: #008080; text-decoration-color: #008080; font-weight: bold\">1.8</span>, <span style=\"color: #008080; text-decoration-color: #008080; font-weight: bold\">1.8</span><span style=\"font-weight: bold\">]</span>, <span style=\"color: #808000; text-decoration-color: #808000\">type</span>=<span style=\"color: #008000; text-decoration-color: #008000\">'scale'</span><span style=\"font-weight: bold\">)])</span>,\n",
       "            <span style=\"color: #800080; text-decoration-color: #800080; font-weight: bold\">Dataset</span><span style=\"font-weight: bold\">(</span><span style=\"color: #808000; text-decoration-color: #808000\">path</span>=<span style=\"color: #008000; text-decoration-color: #008000\">'1'</span>, <span style=\"color: #808000; text-decoration-color: #808000\">coordinateTransformations</span>=<span style=\"font-weight: bold\">[</span><span style=\"color: #800080; text-decoration-color: #800080; font-weight: bold\">Scale</span><span style=\"font-weight: bold\">(</span><span style=\"color: #808000; text-decoration-color: #808000\">scale</span>=<span style=\"font-weight: bold\">[</span><span style=\"color: #008080; text-decoration-color: #008080; font-weight: bold\">1.0</span>, <span style=\"color: #008080; text-decoration-color: #008080; font-weight: bold\">1.0</span>, <span style=\"color: #008080; text-decoration-color: #008080; font-weight: bold\">4.0</span>, <span style=\"color: #008080; text-decoration-color: #008080; font-weight: bold\">3.6</span>, <span style=\"color: #008080; text-decoration-color: #008080; font-weight: bold\">3.6</span><span style=\"font-weight: bold\">]</span>, <span style=\"color: #808000; text-decoration-color: #808000\">type</span>=<span style=\"color: #008000; text-decoration-color: #008000\">'scale'</span><span style=\"font-weight: bold\">)])</span>,\n",
       "            <span style=\"color: #800080; text-decoration-color: #800080; font-weight: bold\">Dataset</span><span style=\"font-weight: bold\">(</span><span style=\"color: #808000; text-decoration-color: #808000\">path</span>=<span style=\"color: #008000; text-decoration-color: #008000\">'2'</span>, <span style=\"color: #808000; text-decoration-color: #808000\">coordinateTransformations</span>=<span style=\"font-weight: bold\">[</span><span style=\"color: #800080; text-decoration-color: #800080; font-weight: bold\">Scale</span><span style=\"font-weight: bold\">(</span><span style=\"color: #808000; text-decoration-color: #808000\">scale</span>=<span style=\"font-weight: bold\">[</span><span style=\"color: #008080; text-decoration-color: #008080; font-weight: bold\">1.0</span>, <span style=\"color: #008080; text-decoration-color: #008080; font-weight: bold\">1.0</span>, <span style=\"color: #008080; text-decoration-color: #008080; font-weight: bold\">8.0</span>, <span style=\"color: #008080; text-decoration-color: #008080; font-weight: bold\">7.2</span>, <span style=\"color: #008080; text-decoration-color: #008080; font-weight: bold\">7.2</span><span style=\"font-weight: bold\">]</span>, <span style=\"color: #808000; text-decoration-color: #808000\">type</span>=<span style=\"color: #008000; text-decoration-color: #008000\">'scale'</span><span style=\"font-weight: bold\">)])</span>,\n",
       "            <span style=\"color: #800080; text-decoration-color: #800080; font-weight: bold\">Dataset</span><span style=\"font-weight: bold\">(</span>\n",
       "                <span style=\"color: #808000; text-decoration-color: #808000\">path</span>=<span style=\"color: #008000; text-decoration-color: #008000\">'3'</span>,\n",
       "                <span style=\"color: #808000; text-decoration-color: #808000\">coordinateTransformations</span>=<span style=\"font-weight: bold\">[</span><span style=\"color: #800080; text-decoration-color: #800080; font-weight: bold\">Scale</span><span style=\"font-weight: bold\">(</span><span style=\"color: #808000; text-decoration-color: #808000\">scale</span>=<span style=\"font-weight: bold\">[</span><span style=\"color: #008080; text-decoration-color: #008080; font-weight: bold\">1.0</span>, <span style=\"color: #008080; text-decoration-color: #008080; font-weight: bold\">1.0</span>, <span style=\"color: #008080; text-decoration-color: #008080; font-weight: bold\">16.0</span>, <span style=\"color: #008080; text-decoration-color: #008080; font-weight: bold\">14.4</span>, <span style=\"color: #008080; text-decoration-color: #008080; font-weight: bold\">14.4</span><span style=\"font-weight: bold\">]</span>, <span style=\"color: #808000; text-decoration-color: #808000\">type</span>=<span style=\"color: #008000; text-decoration-color: #008000\">'scale'</span><span style=\"font-weight: bold\">)]</span>\n",
       "            <span style=\"font-weight: bold\">)</span>,\n",
       "            <span style=\"color: #800080; text-decoration-color: #800080; font-weight: bold\">Dataset</span><span style=\"font-weight: bold\">(</span>\n",
       "                <span style=\"color: #808000; text-decoration-color: #808000\">path</span>=<span style=\"color: #008000; text-decoration-color: #008000\">'4'</span>,\n",
       "                <span style=\"color: #808000; text-decoration-color: #808000\">coordinateTransformations</span>=<span style=\"font-weight: bold\">[</span><span style=\"color: #800080; text-decoration-color: #800080; font-weight: bold\">Scale</span><span style=\"font-weight: bold\">(</span><span style=\"color: #808000; text-decoration-color: #808000\">scale</span>=<span style=\"font-weight: bold\">[</span><span style=\"color: #008080; text-decoration-color: #008080; font-weight: bold\">1.0</span>, <span style=\"color: #008080; text-decoration-color: #008080; font-weight: bold\">1.0</span>, <span style=\"color: #008080; text-decoration-color: #008080; font-weight: bold\">32.0</span>, <span style=\"color: #008080; text-decoration-color: #008080; font-weight: bold\">28.8</span>, <span style=\"color: #008080; text-decoration-color: #008080; font-weight: bold\">28.8</span><span style=\"font-weight: bold\">]</span>, <span style=\"color: #808000; text-decoration-color: #808000\">type</span>=<span style=\"color: #008000; text-decoration-color: #008000\">'scale'</span><span style=\"font-weight: bold\">)]</span>\n",
       "            <span style=\"font-weight: bold\">)</span>\n",
       "        <span style=\"font-weight: bold\">]</span>,\n",
       "        <span style=\"color: #808000; text-decoration-color: #808000\">name</span>=<span style=\"color: #008000; text-decoration-color: #008000\">'image'</span>,\n",
       "        <span style=\"color: #808000; text-decoration-color: #808000\">version</span>=<span style=\"color: #008000; text-decoration-color: #008000\">'0.4'</span>,\n",
       "        <span style=\"color: #808000; text-decoration-color: #808000\">coordinateTransformations</span>=<span style=\"font-weight: bold\">[]</span>\n",
       "    <span style=\"font-weight: bold\">)</span>,\n",
       "    <span style=\"color: #808000; text-decoration-color: #808000\">scale_factors</span>=<span style=\"color: #800080; text-decoration-color: #800080; font-style: italic\">None</span>,\n",
       "    <span style=\"color: #808000; text-decoration-color: #808000\">method</span>=<span style=\"color: #800080; text-decoration-color: #800080; font-style: italic\">None</span>,\n",
       "    <span style=\"color: #808000; text-decoration-color: #808000\">chunks</span>=<span style=\"color: #800080; text-decoration-color: #800080; font-style: italic\">None</span>\n",
       "<span style=\"font-weight: bold\">)</span>\n",
       "</pre>\n"
      ],
      "text/plain": [
       "\u001b[1;35mMultiscales\u001b[0m\u001b[1m(\u001b[0m\n",
       "    \u001b[33mimages\u001b[0m=\u001b[1m[\u001b[0m\n",
       "        \u001b[1;35mNgffImage\u001b[0m\u001b[1m(\u001b[0m\n",
       "            \u001b[33mdata\u001b[0m=\u001b[35mdask\u001b[0m.array\u001b[1m<\u001b[0m\u001b[1;95mfrom-zarr\u001b[0m\u001b[39m, \u001b[0m\u001b[33mshape\u001b[0m\u001b[39m=\u001b[0m\u001b[1;39m(\u001b[0m\u001b[1;36m1\u001b[0m\u001b[39m, \u001b[0m\u001b[1;36m1\u001b[0m\u001b[39m, \u001b[0m\u001b[1;36m4200\u001b[0m\u001b[39m, \u001b[0m\u001b[1;36m10240\u001b[0m\u001b[39m, \u001b[0m\u001b[1;36m7400\u001b[0m\u001b[1;39m)\u001b[0m\u001b[39m, \u001b[0m\u001b[33mdtype\u001b[0m\u001b[39m=\u001b[0m\u001b[35muint16\u001b[0m\u001b[39m, \u001b[0m\u001b[33mchunksize\u001b[0m\u001b[39m=\u001b[0m\u001b[1;39m(\u001b[0m\u001b[1;36m1\u001b[0m\u001b[39m, \u001b[0m\u001b[1;36m1\u001b[0m\u001b[39m, \u001b[0m\u001b[1;36m1\u001b[0m\u001b[39m, \u001b[0m\u001b[1;36m10240\u001b[0m\u001b[39m, \u001b[0m\n",
       "\u001b[1;36m7400\u001b[0m\u001b[1;39m)\u001b[0m\u001b[39m, \u001b[0m\u001b[33mchunktype\u001b[0m\u001b[39m=\u001b[0m\u001b[35mnumpy\u001b[0m\u001b[39m.ndarray>,\u001b[0m\n",
       "\u001b[39m            \u001b[0m\u001b[33mdims\u001b[0m\u001b[39m=\u001b[0m\u001b[1;39m[\u001b[0m\u001b[32m't'\u001b[0m\u001b[39m, \u001b[0m\u001b[32m'c'\u001b[0m\u001b[39m, \u001b[0m\u001b[32m'z'\u001b[0m\u001b[39m, \u001b[0m\u001b[32m'y'\u001b[0m\u001b[39m, \u001b[0m\u001b[32m'x'\u001b[0m\u001b[1;39m]\u001b[0m\u001b[39m,\u001b[0m\n",
       "\u001b[39m            \u001b[0m\u001b[33mscale\u001b[0m\u001b[39m=\u001b[0m\u001b[1;39m{\u001b[0m\u001b[32m't'\u001b[0m\u001b[39m: \u001b[0m\u001b[1;36m1.0\u001b[0m\u001b[39m, \u001b[0m\u001b[32m'c'\u001b[0m\u001b[39m: \u001b[0m\u001b[1;36m1.0\u001b[0m\u001b[39m, \u001b[0m\u001b[32m'z'\u001b[0m\u001b[39m: \u001b[0m\u001b[1;36m2.0\u001b[0m\u001b[39m, \u001b[0m\u001b[32m'y'\u001b[0m\u001b[39m: \u001b[0m\u001b[1;36m1.8\u001b[0m\u001b[39m, \u001b[0m\u001b[32m'x'\u001b[0m\u001b[39m: \u001b[0m\u001b[1;36m1.8\u001b[0m\u001b[1;39m}\u001b[0m\u001b[39m,\u001b[0m\n",
       "\u001b[39m            \u001b[0m\u001b[33mtranslation\u001b[0m\u001b[39m=\u001b[0m\u001b[1;39m{\u001b[0m\u001b[32m't'\u001b[0m\u001b[39m: \u001b[0m\u001b[1;36m0.0\u001b[0m\u001b[39m, \u001b[0m\u001b[32m'c'\u001b[0m\u001b[39m: \u001b[0m\u001b[1;36m0.0\u001b[0m\u001b[39m, \u001b[0m\u001b[32m'z'\u001b[0m\u001b[39m: \u001b[0m\u001b[1;36m0.0\u001b[0m\u001b[39m, \u001b[0m\u001b[32m'y'\u001b[0m\u001b[39m: \u001b[0m\u001b[1;36m0.0\u001b[0m\u001b[39m, \u001b[0m\u001b[32m'x'\u001b[0m\u001b[39m: \u001b[0m\u001b[1;36m0.0\u001b[0m\u001b[1;39m}\u001b[0m\u001b[39m,\u001b[0m\n",
       "\u001b[39m            \u001b[0m\u001b[33mname\u001b[0m\u001b[39m=\u001b[0m\u001b[32m'image'\u001b[0m\u001b[39m,\u001b[0m\n",
       "\u001b[39m            \u001b[0m\u001b[33maxes_units\u001b[0m\u001b[39m=\u001b[0m\u001b[1;39m{\u001b[0m\u001b[32m't'\u001b[0m\u001b[39m: \u001b[0m\u001b[32m'millisecond'\u001b[0m\u001b[39m, \u001b[0m\u001b[32m'c'\u001b[0m\u001b[39m: \u001b[0m\u001b[3;35mNone\u001b[0m\u001b[39m, \u001b[0m\u001b[32m'z'\u001b[0m\u001b[39m: \u001b[0m\u001b[32m'micrometer'\u001b[0m\u001b[39m, \u001b[0m\u001b[32m'y'\u001b[0m\u001b[39m: \u001b[0m\u001b[32m'micrometer'\u001b[0m\u001b[39m, \u001b[0m\u001b[32m'x'\u001b[0m\u001b[39m: \u001b[0m\u001b[32m'micrometer'\u001b[0m\u001b[1;39m}\u001b[0m\n",
       "\u001b[39m        \u001b[0m\u001b[1;39m)\u001b[0m\u001b[39m,\u001b[0m\n",
       "\u001b[39m        \u001b[0m\u001b[1;35mNgffImage\u001b[0m\u001b[1;39m(\u001b[0m\n",
       "\u001b[39m            \u001b[0m\u001b[33mdata\u001b[0m\u001b[39m=\u001b[0m\u001b[35mdask\u001b[0m\u001b[39m.array<from-zarr, \u001b[0m\u001b[33mshape\u001b[0m\u001b[39m=\u001b[0m\u001b[1;39m(\u001b[0m\u001b[1;36m1\u001b[0m\u001b[39m, \u001b[0m\u001b[1;36m1\u001b[0m\u001b[39m, \u001b[0m\u001b[1;36m2100\u001b[0m\u001b[39m, \u001b[0m\u001b[1;36m5120\u001b[0m\u001b[39m, \u001b[0m\u001b[1;36m3700\u001b[0m\u001b[1;39m)\u001b[0m\u001b[39m, \u001b[0m\u001b[33mdtype\u001b[0m\u001b[39m=\u001b[0m\u001b[35muint16\u001b[0m\u001b[39m, \u001b[0m\u001b[33mchunksize\u001b[0m\u001b[39m=\u001b[0m\u001b[1;39m(\u001b[0m\u001b[1;36m1\u001b[0m\u001b[39m, \u001b[0m\u001b[1;36m1\u001b[0m\u001b[39m, \u001b[0m\u001b[1;36m1\u001b[0m\u001b[39m, \u001b[0m\u001b[1;36m5120\u001b[0m\u001b[39m, \u001b[0m\n",
       "\u001b[1;36m3700\u001b[0m\u001b[1;39m)\u001b[0m\u001b[39m, \u001b[0m\u001b[33mchunktype\u001b[0m\u001b[39m=\u001b[0m\u001b[35mnumpy\u001b[0m\u001b[39m.ndarray>,\u001b[0m\n",
       "\u001b[39m            \u001b[0m\u001b[33mdims\u001b[0m\u001b[39m=\u001b[0m\u001b[1;39m[\u001b[0m\u001b[32m't'\u001b[0m\u001b[39m, \u001b[0m\u001b[32m'c'\u001b[0m\u001b[39m, \u001b[0m\u001b[32m'z'\u001b[0m\u001b[39m, \u001b[0m\u001b[32m'y'\u001b[0m\u001b[39m, \u001b[0m\u001b[32m'x'\u001b[0m\u001b[1;39m]\u001b[0m\u001b[39m,\u001b[0m\n",
       "\u001b[39m            \u001b[0m\u001b[33mscale\u001b[0m\u001b[39m=\u001b[0m\u001b[1;39m{\u001b[0m\u001b[32m't'\u001b[0m\u001b[39m: \u001b[0m\u001b[1;36m1.0\u001b[0m\u001b[39m, \u001b[0m\u001b[32m'c'\u001b[0m\u001b[39m: \u001b[0m\u001b[1;36m1.0\u001b[0m\u001b[39m, \u001b[0m\u001b[32m'z'\u001b[0m\u001b[39m: \u001b[0m\u001b[1;36m4.0\u001b[0m\u001b[39m, \u001b[0m\u001b[32m'y'\u001b[0m\u001b[39m: \u001b[0m\u001b[1;36m3.6\u001b[0m\u001b[39m, \u001b[0m\u001b[32m'x'\u001b[0m\u001b[39m: \u001b[0m\u001b[1;36m3.6\u001b[0m\u001b[1;39m}\u001b[0m\u001b[39m,\u001b[0m\n",
       "\u001b[39m            \u001b[0m\u001b[33mtranslation\u001b[0m\u001b[39m=\u001b[0m\u001b[1;39m{\u001b[0m\u001b[32m't'\u001b[0m\u001b[39m: \u001b[0m\u001b[1;36m0.0\u001b[0m\u001b[39m, \u001b[0m\u001b[32m'c'\u001b[0m\u001b[39m: \u001b[0m\u001b[1;36m0.0\u001b[0m\u001b[39m, \u001b[0m\u001b[32m'z'\u001b[0m\u001b[39m: \u001b[0m\u001b[1;36m0.0\u001b[0m\u001b[39m, \u001b[0m\u001b[32m'y'\u001b[0m\u001b[39m: \u001b[0m\u001b[1;36m0.0\u001b[0m\u001b[39m, \u001b[0m\u001b[32m'x'\u001b[0m\u001b[39m: \u001b[0m\u001b[1;36m0.0\u001b[0m\u001b[1;39m}\u001b[0m\u001b[39m,\u001b[0m\n",
       "\u001b[39m            \u001b[0m\u001b[33mname\u001b[0m\u001b[39m=\u001b[0m\u001b[32m'image'\u001b[0m\u001b[39m,\u001b[0m\n",
       "\u001b[39m            \u001b[0m\u001b[33maxes_units\u001b[0m\u001b[39m=\u001b[0m\u001b[1;39m{\u001b[0m\u001b[32m't'\u001b[0m\u001b[39m: \u001b[0m\u001b[32m'millisecond'\u001b[0m\u001b[39m, \u001b[0m\u001b[32m'c'\u001b[0m\u001b[39m: \u001b[0m\u001b[3;35mNone\u001b[0m\u001b[39m, \u001b[0m\u001b[32m'z'\u001b[0m\u001b[39m: \u001b[0m\u001b[32m'micrometer'\u001b[0m\u001b[39m, \u001b[0m\u001b[32m'y'\u001b[0m\u001b[39m: \u001b[0m\u001b[32m'micrometer'\u001b[0m\u001b[39m, \u001b[0m\u001b[32m'x'\u001b[0m\u001b[39m: \u001b[0m\u001b[32m'micrometer'\u001b[0m\u001b[1;39m}\u001b[0m\n",
       "\u001b[39m        \u001b[0m\u001b[1;39m)\u001b[0m\u001b[39m,\u001b[0m\n",
       "\u001b[39m        \u001b[0m\u001b[1;35mNgffImage\u001b[0m\u001b[1;39m(\u001b[0m\n",
       "\u001b[39m            \u001b[0m\u001b[33mdata\u001b[0m\u001b[39m=\u001b[0m\u001b[35mdask\u001b[0m\u001b[39m.array<from-zarr, \u001b[0m\u001b[33mshape\u001b[0m\u001b[39m=\u001b[0m\u001b[1;39m(\u001b[0m\u001b[1;36m1\u001b[0m\u001b[39m, \u001b[0m\u001b[1;36m1\u001b[0m\u001b[39m, \u001b[0m\u001b[1;36m1050\u001b[0m\u001b[39m, \u001b[0m\u001b[1;36m2560\u001b[0m\u001b[39m, \u001b[0m\u001b[1;36m1850\u001b[0m\u001b[1;39m)\u001b[0m\u001b[39m, \u001b[0m\u001b[33mdtype\u001b[0m\u001b[39m=\u001b[0m\u001b[35muint16\u001b[0m\u001b[39m, \u001b[0m\u001b[33mchunksize\u001b[0m\u001b[39m=\u001b[0m\u001b[1;39m(\u001b[0m\u001b[1;36m1\u001b[0m\u001b[39m, \u001b[0m\u001b[1;36m1\u001b[0m\u001b[39m, \u001b[0m\u001b[1;36m1\u001b[0m\u001b[39m, \u001b[0m\u001b[1;36m2560\u001b[0m\u001b[39m, \u001b[0m\n",
       "\u001b[1;36m1850\u001b[0m\u001b[1;39m)\u001b[0m\u001b[39m, \u001b[0m\u001b[33mchunktype\u001b[0m\u001b[39m=\u001b[0m\u001b[35mnumpy\u001b[0m\u001b[39m.ndarray>,\u001b[0m\n",
       "\u001b[39m            \u001b[0m\u001b[33mdims\u001b[0m\u001b[39m=\u001b[0m\u001b[1;39m[\u001b[0m\u001b[32m't'\u001b[0m\u001b[39m, \u001b[0m\u001b[32m'c'\u001b[0m\u001b[39m, \u001b[0m\u001b[32m'z'\u001b[0m\u001b[39m, \u001b[0m\u001b[32m'y'\u001b[0m\u001b[39m, \u001b[0m\u001b[32m'x'\u001b[0m\u001b[1;39m]\u001b[0m\u001b[39m,\u001b[0m\n",
       "\u001b[39m            \u001b[0m\u001b[33mscale\u001b[0m\u001b[39m=\u001b[0m\u001b[1;39m{\u001b[0m\u001b[32m't'\u001b[0m\u001b[39m: \u001b[0m\u001b[1;36m1.0\u001b[0m\u001b[39m, \u001b[0m\u001b[32m'c'\u001b[0m\u001b[39m: \u001b[0m\u001b[1;36m1.0\u001b[0m\u001b[39m, \u001b[0m\u001b[32m'z'\u001b[0m\u001b[39m: \u001b[0m\u001b[1;36m8.0\u001b[0m\u001b[39m, \u001b[0m\u001b[32m'y'\u001b[0m\u001b[39m: \u001b[0m\u001b[1;36m7.2\u001b[0m\u001b[39m, \u001b[0m\u001b[32m'x'\u001b[0m\u001b[39m: \u001b[0m\u001b[1;36m7.2\u001b[0m\u001b[1;39m}\u001b[0m\u001b[39m,\u001b[0m\n",
       "\u001b[39m            \u001b[0m\u001b[33mtranslation\u001b[0m\u001b[39m=\u001b[0m\u001b[1;39m{\u001b[0m\u001b[32m't'\u001b[0m\u001b[39m: \u001b[0m\u001b[1;36m0.0\u001b[0m\u001b[39m, \u001b[0m\u001b[32m'c'\u001b[0m\u001b[39m: \u001b[0m\u001b[1;36m0.0\u001b[0m\u001b[39m, \u001b[0m\u001b[32m'z'\u001b[0m\u001b[39m: \u001b[0m\u001b[1;36m0.0\u001b[0m\u001b[39m, \u001b[0m\u001b[32m'y'\u001b[0m\u001b[39m: \u001b[0m\u001b[1;36m0.0\u001b[0m\u001b[39m, \u001b[0m\u001b[32m'x'\u001b[0m\u001b[39m: \u001b[0m\u001b[1;36m0.0\u001b[0m\u001b[1;39m}\u001b[0m\u001b[39m,\u001b[0m\n",
       "\u001b[39m            \u001b[0m\u001b[33mname\u001b[0m\u001b[39m=\u001b[0m\u001b[32m'image'\u001b[0m\u001b[39m,\u001b[0m\n",
       "\u001b[39m            \u001b[0m\u001b[33maxes_units\u001b[0m\u001b[39m=\u001b[0m\u001b[1;39m{\u001b[0m\u001b[32m't'\u001b[0m\u001b[39m: \u001b[0m\u001b[32m'millisecond'\u001b[0m\u001b[39m, \u001b[0m\u001b[32m'c'\u001b[0m\u001b[39m: \u001b[0m\u001b[3;35mNone\u001b[0m\u001b[39m, \u001b[0m\u001b[32m'z'\u001b[0m\u001b[39m: \u001b[0m\u001b[32m'micrometer'\u001b[0m\u001b[39m, \u001b[0m\u001b[32m'y'\u001b[0m\u001b[39m: \u001b[0m\u001b[32m'micrometer'\u001b[0m\u001b[39m, \u001b[0m\u001b[32m'x'\u001b[0m\u001b[39m: \u001b[0m\u001b[32m'micrometer'\u001b[0m\u001b[1;39m}\u001b[0m\n",
       "\u001b[39m        \u001b[0m\u001b[1;39m)\u001b[0m\u001b[39m,\u001b[0m\n",
       "\u001b[39m        \u001b[0m\u001b[1;35mNgffImage\u001b[0m\u001b[1;39m(\u001b[0m\n",
       "\u001b[39m            \u001b[0m\u001b[33mdata\u001b[0m\u001b[39m=\u001b[0m\u001b[35mdask\u001b[0m\u001b[39m.array<from-zarr, \u001b[0m\u001b[33mshape\u001b[0m\u001b[39m=\u001b[0m\u001b[1;39m(\u001b[0m\u001b[1;36m1\u001b[0m\u001b[39m, \u001b[0m\u001b[1;36m1\u001b[0m\u001b[39m, \u001b[0m\u001b[1;36m525\u001b[0m\u001b[39m, \u001b[0m\u001b[1;36m1280\u001b[0m\u001b[39m, \u001b[0m\u001b[1;36m925\u001b[0m\u001b[1;39m)\u001b[0m\u001b[39m, \u001b[0m\u001b[33mdtype\u001b[0m\u001b[39m=\u001b[0m\u001b[35muint16\u001b[0m\u001b[39m, \u001b[0m\u001b[33mchunksize\u001b[0m\u001b[39m=\u001b[0m\u001b[1;39m(\u001b[0m\u001b[1;36m1\u001b[0m\u001b[39m, \u001b[0m\u001b[1;36m1\u001b[0m\u001b[39m, \u001b[0m\u001b[1;36m1\u001b[0m\u001b[39m, \u001b[0m\u001b[1;36m1280\u001b[0m\u001b[39m, \u001b[0m\u001b[1;36m925\u001b[0m\u001b[1;39m)\u001b[0m\u001b[39m, \u001b[0m\n",
       "\u001b[33mchunktype\u001b[0m\u001b[39m=\u001b[0m\u001b[35mnumpy\u001b[0m\u001b[39m.ndarray>,\u001b[0m\n",
       "\u001b[39m            \u001b[0m\u001b[33mdims\u001b[0m\u001b[39m=\u001b[0m\u001b[1;39m[\u001b[0m\u001b[32m't'\u001b[0m\u001b[39m, \u001b[0m\u001b[32m'c'\u001b[0m\u001b[39m, \u001b[0m\u001b[32m'z'\u001b[0m\u001b[39m, \u001b[0m\u001b[32m'y'\u001b[0m\u001b[39m, \u001b[0m\u001b[32m'x'\u001b[0m\u001b[1;39m]\u001b[0m\u001b[39m,\u001b[0m\n",
       "\u001b[39m            \u001b[0m\u001b[33mscale\u001b[0m\u001b[39m=\u001b[0m\u001b[1;39m{\u001b[0m\u001b[32m't'\u001b[0m\u001b[39m: \u001b[0m\u001b[1;36m1.0\u001b[0m\u001b[39m, \u001b[0m\u001b[32m'c'\u001b[0m\u001b[39m: \u001b[0m\u001b[1;36m1.0\u001b[0m\u001b[39m, \u001b[0m\u001b[32m'z'\u001b[0m\u001b[39m: \u001b[0m\u001b[1;36m16.0\u001b[0m\u001b[39m, \u001b[0m\u001b[32m'y'\u001b[0m\u001b[39m: \u001b[0m\u001b[1;36m14.4\u001b[0m\u001b[39m, \u001b[0m\u001b[32m'x'\u001b[0m\u001b[39m: \u001b[0m\u001b[1;36m14.4\u001b[0m\u001b[1;39m}\u001b[0m\u001b[39m,\u001b[0m\n",
       "\u001b[39m            \u001b[0m\u001b[33mtranslation\u001b[0m\u001b[39m=\u001b[0m\u001b[1;39m{\u001b[0m\u001b[32m't'\u001b[0m\u001b[39m: \u001b[0m\u001b[1;36m0.0\u001b[0m\u001b[39m, \u001b[0m\u001b[32m'c'\u001b[0m\u001b[39m: \u001b[0m\u001b[1;36m0.0\u001b[0m\u001b[39m, \u001b[0m\u001b[32m'z'\u001b[0m\u001b[39m: \u001b[0m\u001b[1;36m0.0\u001b[0m\u001b[39m, \u001b[0m\u001b[32m'y'\u001b[0m\u001b[39m: \u001b[0m\u001b[1;36m0.0\u001b[0m\u001b[39m, \u001b[0m\u001b[32m'x'\u001b[0m\u001b[39m: \u001b[0m\u001b[1;36m0.0\u001b[0m\u001b[1;39m}\u001b[0m\u001b[39m,\u001b[0m\n",
       "\u001b[39m            \u001b[0m\u001b[33mname\u001b[0m\u001b[39m=\u001b[0m\u001b[32m'image'\u001b[0m\u001b[39m,\u001b[0m\n",
       "\u001b[39m            \u001b[0m\u001b[33maxes_units\u001b[0m\u001b[39m=\u001b[0m\u001b[1;39m{\u001b[0m\u001b[32m't'\u001b[0m\u001b[39m: \u001b[0m\u001b[32m'millisecond'\u001b[0m\u001b[39m, \u001b[0m\u001b[32m'c'\u001b[0m\u001b[39m: \u001b[0m\u001b[3;35mNone\u001b[0m\u001b[39m, \u001b[0m\u001b[32m'z'\u001b[0m\u001b[39m: \u001b[0m\u001b[32m'micrometer'\u001b[0m\u001b[39m, \u001b[0m\u001b[32m'y'\u001b[0m\u001b[39m: \u001b[0m\u001b[32m'micrometer'\u001b[0m\u001b[39m, \u001b[0m\u001b[32m'x'\u001b[0m\u001b[39m: \u001b[0m\u001b[32m'micrometer'\u001b[0m\u001b[1;39m}\u001b[0m\n",
       "\u001b[39m        \u001b[0m\u001b[1;39m)\u001b[0m\u001b[39m,\u001b[0m\n",
       "\u001b[39m        \u001b[0m\u001b[1;35mNgffImage\u001b[0m\u001b[1;39m(\u001b[0m\n",
       "\u001b[39m            \u001b[0m\u001b[33mdata\u001b[0m\u001b[39m=\u001b[0m\u001b[35mdask\u001b[0m\u001b[39m.array<from-zarr, \u001b[0m\u001b[33mshape\u001b[0m\u001b[39m=\u001b[0m\u001b[1;39m(\u001b[0m\u001b[1;36m1\u001b[0m\u001b[39m, \u001b[0m\u001b[1;36m1\u001b[0m\u001b[39m, \u001b[0m\u001b[1;36m262\u001b[0m\u001b[39m, \u001b[0m\u001b[1;36m640\u001b[0m\u001b[39m, \u001b[0m\u001b[1;36m462\u001b[0m\u001b[1;39m)\u001b[0m\u001b[39m, \u001b[0m\u001b[33mdtype\u001b[0m\u001b[39m=\u001b[0m\u001b[35muint16\u001b[0m\u001b[39m, \u001b[0m\u001b[33mchunksize\u001b[0m\u001b[39m=\u001b[0m\u001b[1;39m(\u001b[0m\u001b[1;36m1\u001b[0m\u001b[39m, \u001b[0m\u001b[1;36m1\u001b[0m\u001b[39m, \u001b[0m\u001b[1;36m1\u001b[0m\u001b[39m, \u001b[0m\u001b[1;36m640\u001b[0m\u001b[39m, \u001b[0m\u001b[1;36m462\u001b[0m\u001b[1;39m)\u001b[0m\u001b[39m, \u001b[0m\n",
       "\u001b[33mchunktype\u001b[0m\u001b[39m=\u001b[0m\u001b[35mnumpy\u001b[0m\u001b[39m.ndarray\u001b[0m\u001b[1m>\u001b[0m,\n",
       "            \u001b[33mdims\u001b[0m=\u001b[1m[\u001b[0m\u001b[32m't'\u001b[0m, \u001b[32m'c'\u001b[0m, \u001b[32m'z'\u001b[0m, \u001b[32m'y'\u001b[0m, \u001b[32m'x'\u001b[0m\u001b[1m]\u001b[0m,\n",
       "            \u001b[33mscale\u001b[0m=\u001b[1m{\u001b[0m\u001b[32m't'\u001b[0m: \u001b[1;36m1.0\u001b[0m, \u001b[32m'c'\u001b[0m: \u001b[1;36m1.0\u001b[0m, \u001b[32m'z'\u001b[0m: \u001b[1;36m32.0\u001b[0m, \u001b[32m'y'\u001b[0m: \u001b[1;36m28.8\u001b[0m, \u001b[32m'x'\u001b[0m: \u001b[1;36m28.8\u001b[0m\u001b[1m}\u001b[0m,\n",
       "            \u001b[33mtranslation\u001b[0m=\u001b[1m{\u001b[0m\u001b[32m't'\u001b[0m: \u001b[1;36m0.0\u001b[0m, \u001b[32m'c'\u001b[0m: \u001b[1;36m0.0\u001b[0m, \u001b[32m'z'\u001b[0m: \u001b[1;36m0.0\u001b[0m, \u001b[32m'y'\u001b[0m: \u001b[1;36m0.0\u001b[0m, \u001b[32m'x'\u001b[0m: \u001b[1;36m0.0\u001b[0m\u001b[1m}\u001b[0m,\n",
       "            \u001b[33mname\u001b[0m=\u001b[32m'image'\u001b[0m,\n",
       "            \u001b[33maxes_units\u001b[0m=\u001b[1m{\u001b[0m\u001b[32m't'\u001b[0m: \u001b[32m'millisecond'\u001b[0m, \u001b[32m'c'\u001b[0m: \u001b[3;35mNone\u001b[0m, \u001b[32m'z'\u001b[0m: \u001b[32m'micrometer'\u001b[0m, \u001b[32m'y'\u001b[0m: \u001b[32m'micrometer'\u001b[0m, \u001b[32m'x'\u001b[0m: \u001b[32m'micrometer'\u001b[0m\u001b[1m}\u001b[0m\n",
       "        \u001b[1m)\u001b[0m\n",
       "    \u001b[1m]\u001b[0m,\n",
       "    \u001b[33mmetadata\u001b[0m=\u001b[1;35mMetadata\u001b[0m\u001b[1m(\u001b[0m\n",
       "        \u001b[33maxes\u001b[0m=\u001b[1m[\u001b[0m\n",
       "            \u001b[1;35mAxis\u001b[0m\u001b[1m(\u001b[0m\u001b[33mname\u001b[0m=\u001b[32m't'\u001b[0m, \u001b[33mtype\u001b[0m=\u001b[32m'time'\u001b[0m, \u001b[33munit\u001b[0m=\u001b[32m'millisecond'\u001b[0m\u001b[1m)\u001b[0m,\n",
       "            \u001b[1;35mAxis\u001b[0m\u001b[1m(\u001b[0m\u001b[33mname\u001b[0m=\u001b[32m'c'\u001b[0m, \u001b[33mtype\u001b[0m=\u001b[32m'channel'\u001b[0m, \u001b[33munit\u001b[0m=\u001b[3;35mNone\u001b[0m\u001b[1m)\u001b[0m,\n",
       "            \u001b[1;35mAxis\u001b[0m\u001b[1m(\u001b[0m\u001b[33mname\u001b[0m=\u001b[32m'z'\u001b[0m, \u001b[33mtype\u001b[0m=\u001b[32m'space'\u001b[0m, \u001b[33munit\u001b[0m=\u001b[32m'micrometer'\u001b[0m\u001b[1m)\u001b[0m,\n",
       "            \u001b[1;35mAxis\u001b[0m\u001b[1m(\u001b[0m\u001b[33mname\u001b[0m=\u001b[32m'y'\u001b[0m, \u001b[33mtype\u001b[0m=\u001b[32m'space'\u001b[0m, \u001b[33munit\u001b[0m=\u001b[32m'micrometer'\u001b[0m\u001b[1m)\u001b[0m,\n",
       "            \u001b[1;35mAxis\u001b[0m\u001b[1m(\u001b[0m\u001b[33mname\u001b[0m=\u001b[32m'x'\u001b[0m, \u001b[33mtype\u001b[0m=\u001b[32m'space'\u001b[0m, \u001b[33munit\u001b[0m=\u001b[32m'micrometer'\u001b[0m\u001b[1m)\u001b[0m\n",
       "        \u001b[1m]\u001b[0m,\n",
       "        \u001b[33mdatasets\u001b[0m=\u001b[1m[\u001b[0m\n",
       "            \u001b[1;35mDataset\u001b[0m\u001b[1m(\u001b[0m\u001b[33mpath\u001b[0m=\u001b[32m'0'\u001b[0m, \u001b[33mcoordinateTransformations\u001b[0m=\u001b[1m[\u001b[0m\u001b[1;35mScale\u001b[0m\u001b[1m(\u001b[0m\u001b[33mscale\u001b[0m=\u001b[1m[\u001b[0m\u001b[1;36m1.0\u001b[0m, \u001b[1;36m1.0\u001b[0m, \u001b[1;36m2.0\u001b[0m, \u001b[1;36m1.8\u001b[0m, \u001b[1;36m1.8\u001b[0m\u001b[1m]\u001b[0m, \u001b[33mtype\u001b[0m=\u001b[32m'scale'\u001b[0m\u001b[1m)\u001b[0m\u001b[1m]\u001b[0m\u001b[1m)\u001b[0m,\n",
       "            \u001b[1;35mDataset\u001b[0m\u001b[1m(\u001b[0m\u001b[33mpath\u001b[0m=\u001b[32m'1'\u001b[0m, \u001b[33mcoordinateTransformations\u001b[0m=\u001b[1m[\u001b[0m\u001b[1;35mScale\u001b[0m\u001b[1m(\u001b[0m\u001b[33mscale\u001b[0m=\u001b[1m[\u001b[0m\u001b[1;36m1.0\u001b[0m, \u001b[1;36m1.0\u001b[0m, \u001b[1;36m4.0\u001b[0m, \u001b[1;36m3.6\u001b[0m, \u001b[1;36m3.6\u001b[0m\u001b[1m]\u001b[0m, \u001b[33mtype\u001b[0m=\u001b[32m'scale'\u001b[0m\u001b[1m)\u001b[0m\u001b[1m]\u001b[0m\u001b[1m)\u001b[0m,\n",
       "            \u001b[1;35mDataset\u001b[0m\u001b[1m(\u001b[0m\u001b[33mpath\u001b[0m=\u001b[32m'2'\u001b[0m, \u001b[33mcoordinateTransformations\u001b[0m=\u001b[1m[\u001b[0m\u001b[1;35mScale\u001b[0m\u001b[1m(\u001b[0m\u001b[33mscale\u001b[0m=\u001b[1m[\u001b[0m\u001b[1;36m1.0\u001b[0m, \u001b[1;36m1.0\u001b[0m, \u001b[1;36m8.0\u001b[0m, \u001b[1;36m7.2\u001b[0m, \u001b[1;36m7.2\u001b[0m\u001b[1m]\u001b[0m, \u001b[33mtype\u001b[0m=\u001b[32m'scale'\u001b[0m\u001b[1m)\u001b[0m\u001b[1m]\u001b[0m\u001b[1m)\u001b[0m,\n",
       "            \u001b[1;35mDataset\u001b[0m\u001b[1m(\u001b[0m\n",
       "                \u001b[33mpath\u001b[0m=\u001b[32m'3'\u001b[0m,\n",
       "                \u001b[33mcoordinateTransformations\u001b[0m=\u001b[1m[\u001b[0m\u001b[1;35mScale\u001b[0m\u001b[1m(\u001b[0m\u001b[33mscale\u001b[0m=\u001b[1m[\u001b[0m\u001b[1;36m1.0\u001b[0m, \u001b[1;36m1.0\u001b[0m, \u001b[1;36m16.0\u001b[0m, \u001b[1;36m14.4\u001b[0m, \u001b[1;36m14.4\u001b[0m\u001b[1m]\u001b[0m, \u001b[33mtype\u001b[0m=\u001b[32m'scale'\u001b[0m\u001b[1m)\u001b[0m\u001b[1m]\u001b[0m\n",
       "            \u001b[1m)\u001b[0m,\n",
       "            \u001b[1;35mDataset\u001b[0m\u001b[1m(\u001b[0m\n",
       "                \u001b[33mpath\u001b[0m=\u001b[32m'4'\u001b[0m,\n",
       "                \u001b[33mcoordinateTransformations\u001b[0m=\u001b[1m[\u001b[0m\u001b[1;35mScale\u001b[0m\u001b[1m(\u001b[0m\u001b[33mscale\u001b[0m=\u001b[1m[\u001b[0m\u001b[1;36m1.0\u001b[0m, \u001b[1;36m1.0\u001b[0m, \u001b[1;36m32.0\u001b[0m, \u001b[1;36m28.8\u001b[0m, \u001b[1;36m28.8\u001b[0m\u001b[1m]\u001b[0m, \u001b[33mtype\u001b[0m=\u001b[32m'scale'\u001b[0m\u001b[1m)\u001b[0m\u001b[1m]\u001b[0m\n",
       "            \u001b[1m)\u001b[0m\n",
       "        \u001b[1m]\u001b[0m,\n",
       "        \u001b[33mname\u001b[0m=\u001b[32m'image'\u001b[0m,\n",
       "        \u001b[33mversion\u001b[0m=\u001b[32m'0.4'\u001b[0m,\n",
       "        \u001b[33mcoordinateTransformations\u001b[0m=\u001b[1m[\u001b[0m\u001b[1m]\u001b[0m\n",
       "    \u001b[1m)\u001b[0m,\n",
       "    \u001b[33mscale_factors\u001b[0m=\u001b[3;35mNone\u001b[0m,\n",
       "    \u001b[33mmethod\u001b[0m=\u001b[3;35mNone\u001b[0m,\n",
       "    \u001b[33mchunks\u001b[0m=\u001b[3;35mNone\u001b[0m\n",
       "\u001b[1m)\u001b[0m\n"
      ]
     },
     "metadata": {},
     "output_type": "display_data"
    }
   ],
   "source": [
    "# Access an OME-Zarr via HTTPS\n",
    "store = FSStore('https://s3.us-west-2.amazonaws.com/aind-open-data/SmartSPIM_631680_2022-09-09_13-52-33_stitched_2022-11-10_17-18-18/processed/OMEZarr/Ex_647_Em_690.zarr')\n",
    "multiscales = from_ngff_zarr(store)\n",
    "print(multiscales)"
   ]
  },
  {
   "cell_type": "markdown",
   "id": "ec449105-323c-4594-aecd-87b59f4b4ff2",
   "metadata": {},
   "source": [
    "The previous cell loaded quickly because we did not need to download all the data in the image first!\n",
    "\n",
    "How large is pixel data for the highest resolution scale?"
   ]
  },
  {
   "cell_type": "code",
   "execution_count": 18,
   "id": "4e8f04ac-8cbf-47dd-b4b4-cabcb7edf003",
   "metadata": {},
   "outputs": [
    {
     "data": {
      "text/html": [
       "<pre style=\"white-space:pre;overflow-x:auto;line-height:normal;font-family:Menlo,'DejaVu Sans Mono',consolas,'Courier New',monospace\"><span style=\"color: #008080; text-decoration-color: #008080; font-weight: bold\">636518400000</span>\n",
       "</pre>\n"
      ],
      "text/plain": [
       "\u001b[1;36m636518400000\u001b[0m\n"
      ]
     },
     "metadata": {},
     "output_type": "display_data"
    }
   ],
   "source": [
    "print(multiscales.images[0].data.nbytes)"
   ]
  },
  {
   "cell_type": "markdown",
   "id": "6b4cecbc-7544-424f-be6a-f5fd8d7f4e48",
   "metadata": {},
   "source": [
    "> 600 GB!\n",
    "\n",
    "What is the structure and content of the pixel data? How do we access pixel values\n",
    "\n",
    "[Dask](https://www.dask.org/) is a Python library that allows use to lazily load the Zarr array.\n",
    "\n",
    "We can see the structure:"
   ]
  },
  {
   "cell_type": "code",
   "execution_count": 19,
   "id": "a1065e7b-b625-4ddf-beb4-a500be01301f",
   "metadata": {
    "scrolled": true
   },
   "outputs": [
    {
     "data": {
      "text/html": [
       "<table>\n",
       "    <tr>\n",
       "        <td>\n",
       "            <table style=\"border-collapse: collapse;\">\n",
       "                <thead>\n",
       "                    <tr>\n",
       "                        <td> </td>\n",
       "                        <th> Array </th>\n",
       "                        <th> Chunk </th>\n",
       "                    </tr>\n",
       "                </thead>\n",
       "                <tbody>\n",
       "                    \n",
       "                    <tr>\n",
       "                        <th> Bytes </th>\n",
       "                        <td> 592.80 GiB </td>\n",
       "                        <td> 144.53 MiB </td>\n",
       "                    </tr>\n",
       "                    \n",
       "                    <tr>\n",
       "                        <th> Shape </th>\n",
       "                        <td> (1, 1, 4200, 10240, 7400) </td>\n",
       "                        <td> (1, 1, 1, 10240, 7400) </td>\n",
       "                    </tr>\n",
       "                    <tr>\n",
       "                        <th> Dask graph </th>\n",
       "                        <td colspan=\"2\"> 4200 chunks in 2 graph layers </td>\n",
       "                    </tr>\n",
       "                    <tr>\n",
       "                        <th> Data type </th>\n",
       "                        <td colspan=\"2\"> uint16 numpy.ndarray </td>\n",
       "                    </tr>\n",
       "                </tbody>\n",
       "            </table>\n",
       "        </td>\n",
       "        <td>\n",
       "        <svg width=\"355\" height=\"198\" style=\"stroke:rgb(0,0,0);stroke-width:1\" >\n",
       "\n",
       "  <!-- Horizontal lines -->\n",
       "  <line x1=\"0\" y1=\"0\" x2=\"25\" y2=\"0\" style=\"stroke-width:2\" />\n",
       "  <line x1=\"0\" y1=\"25\" x2=\"25\" y2=\"25\" style=\"stroke-width:2\" />\n",
       "\n",
       "  <!-- Vertical lines -->\n",
       "  <line x1=\"0\" y1=\"0\" x2=\"0\" y2=\"25\" style=\"stroke-width:2\" />\n",
       "  <line x1=\"25\" y1=\"0\" x2=\"25\" y2=\"25\" style=\"stroke-width:2\" />\n",
       "\n",
       "  <!-- Colored Rectangle -->\n",
       "  <polygon points=\"0.0,0.0 25.412616514582485,0.0 25.412616514582485,25.412616514582485 0.0,25.412616514582485\" style=\"fill:#ECB172A0;stroke-width:0\"/>\n",
       "\n",
       "  <!-- Text -->\n",
       "  <text x=\"12.706308\" y=\"45.412617\" font-size=\"1.0rem\" font-weight=\"100\" text-anchor=\"middle\" >1</text>\n",
       "  <text x=\"45.412617\" y=\"12.706308\" font-size=\"1.0rem\" font-weight=\"100\" text-anchor=\"middle\" transform=\"rotate(0,45.412617,12.706308)\">1</text>\n",
       "\n",
       "\n",
       "  <!-- Horizontal lines -->\n",
       "  <line x1=\"95\" y1=\"0\" x2=\"123\" y2=\"28\" style=\"stroke-width:2\" />\n",
       "  <line x1=\"95\" y1=\"120\" x2=\"123\" y2=\"148\" style=\"stroke-width:2\" />\n",
       "\n",
       "  <!-- Vertical lines -->\n",
       "  <line x1=\"95\" y1=\"0\" x2=\"95\" y2=\"120\" style=\"stroke-width:2\" />\n",
       "  <line x1=\"95\" y1=\"0\" x2=\"95\" y2=\"120\" />\n",
       "  <line x1=\"96\" y1=\"1\" x2=\"96\" y2=\"121\" />\n",
       "  <line x1=\"97\" y1=\"2\" x2=\"97\" y2=\"122\" />\n",
       "  <line x1=\"98\" y1=\"3\" x2=\"98\" y2=\"123\" />\n",
       "  <line x1=\"99\" y1=\"4\" x2=\"99\" y2=\"124\" />\n",
       "  <line x1=\"100\" y1=\"5\" x2=\"100\" y2=\"125\" />\n",
       "  <line x1=\"101\" y1=\"6\" x2=\"101\" y2=\"126\" />\n",
       "  <line x1=\"102\" y1=\"7\" x2=\"102\" y2=\"127\" />\n",
       "  <line x1=\"103\" y1=\"8\" x2=\"103\" y2=\"128\" />\n",
       "  <line x1=\"104\" y1=\"9\" x2=\"104\" y2=\"129\" />\n",
       "  <line x1=\"104\" y1=\"9\" x2=\"104\" y2=\"129\" />\n",
       "  <line x1=\"105\" y1=\"10\" x2=\"105\" y2=\"130\" />\n",
       "  <line x1=\"106\" y1=\"11\" x2=\"106\" y2=\"131\" />\n",
       "  <line x1=\"107\" y1=\"12\" x2=\"107\" y2=\"132\" />\n",
       "  <line x1=\"108\" y1=\"13\" x2=\"108\" y2=\"133\" />\n",
       "  <line x1=\"109\" y1=\"14\" x2=\"109\" y2=\"134\" />\n",
       "  <line x1=\"110\" y1=\"15\" x2=\"110\" y2=\"135\" />\n",
       "  <line x1=\"111\" y1=\"16\" x2=\"111\" y2=\"136\" />\n",
       "  <line x1=\"112\" y1=\"17\" x2=\"112\" y2=\"137\" />\n",
       "  <line x1=\"113\" y1=\"18\" x2=\"113\" y2=\"138\" />\n",
       "  <line x1=\"113\" y1=\"18\" x2=\"113\" y2=\"138\" />\n",
       "  <line x1=\"114\" y1=\"19\" x2=\"114\" y2=\"139\" />\n",
       "  <line x1=\"115\" y1=\"20\" x2=\"115\" y2=\"140\" />\n",
       "  <line x1=\"116\" y1=\"21\" x2=\"116\" y2=\"141\" />\n",
       "  <line x1=\"117\" y1=\"22\" x2=\"117\" y2=\"142\" />\n",
       "  <line x1=\"118\" y1=\"23\" x2=\"118\" y2=\"143\" />\n",
       "  <line x1=\"119\" y1=\"24\" x2=\"119\" y2=\"144\" />\n",
       "  <line x1=\"120\" y1=\"25\" x2=\"120\" y2=\"145\" />\n",
       "  <line x1=\"121\" y1=\"26\" x2=\"121\" y2=\"146\" />\n",
       "  <line x1=\"122\" y1=\"27\" x2=\"122\" y2=\"147\" />\n",
       "  <line x1=\"123\" y1=\"28\" x2=\"123\" y2=\"148\" />\n",
       "  <line x1=\"123\" y1=\"28\" x2=\"123\" y2=\"148\" style=\"stroke-width:2\" />\n",
       "\n",
       "  <!-- Colored Rectangle -->\n",
       "  <polygon points=\"95.0,0.0 123.95220588235294,28.95220588235294 123.95220588235294,148.95220588235293 95.0,120.0\" style=\"fill:#8B4903A0;stroke-width:0\"/>\n",
       "\n",
       "  <!-- Horizontal lines -->\n",
       "  <line x1=\"95\" y1=\"0\" x2=\"181\" y2=\"0\" style=\"stroke-width:2\" />\n",
       "  <line x1=\"95\" y1=\"0\" x2=\"182\" y2=\"0\" />\n",
       "  <line x1=\"96\" y1=\"1\" x2=\"183\" y2=\"1\" />\n",
       "  <line x1=\"97\" y1=\"2\" x2=\"184\" y2=\"2\" />\n",
       "  <line x1=\"98\" y1=\"3\" x2=\"185\" y2=\"3\" />\n",
       "  <line x1=\"99\" y1=\"4\" x2=\"186\" y2=\"4\" />\n",
       "  <line x1=\"100\" y1=\"5\" x2=\"187\" y2=\"5\" />\n",
       "  <line x1=\"101\" y1=\"6\" x2=\"188\" y2=\"6\" />\n",
       "  <line x1=\"102\" y1=\"7\" x2=\"188\" y2=\"7\" />\n",
       "  <line x1=\"103\" y1=\"8\" x2=\"189\" y2=\"8\" />\n",
       "  <line x1=\"104\" y1=\"9\" x2=\"190\" y2=\"9\" />\n",
       "  <line x1=\"104\" y1=\"9\" x2=\"191\" y2=\"9\" />\n",
       "  <line x1=\"105\" y1=\"10\" x2=\"192\" y2=\"10\" />\n",
       "  <line x1=\"106\" y1=\"11\" x2=\"193\" y2=\"11\" />\n",
       "  <line x1=\"107\" y1=\"12\" x2=\"194\" y2=\"12\" />\n",
       "  <line x1=\"108\" y1=\"13\" x2=\"195\" y2=\"13\" />\n",
       "  <line x1=\"109\" y1=\"14\" x2=\"196\" y2=\"14\" />\n",
       "  <line x1=\"110\" y1=\"15\" x2=\"197\" y2=\"15\" />\n",
       "  <line x1=\"111\" y1=\"16\" x2=\"198\" y2=\"16\" />\n",
       "  <line x1=\"112\" y1=\"17\" x2=\"198\" y2=\"17\" />\n",
       "  <line x1=\"113\" y1=\"18\" x2=\"199\" y2=\"18\" />\n",
       "  <line x1=\"113\" y1=\"18\" x2=\"200\" y2=\"18\" />\n",
       "  <line x1=\"114\" y1=\"19\" x2=\"201\" y2=\"19\" />\n",
       "  <line x1=\"115\" y1=\"20\" x2=\"202\" y2=\"20\" />\n",
       "  <line x1=\"116\" y1=\"21\" x2=\"203\" y2=\"21\" />\n",
       "  <line x1=\"117\" y1=\"22\" x2=\"204\" y2=\"22\" />\n",
       "  <line x1=\"118\" y1=\"23\" x2=\"205\" y2=\"23\" />\n",
       "  <line x1=\"119\" y1=\"24\" x2=\"206\" y2=\"24\" />\n",
       "  <line x1=\"120\" y1=\"25\" x2=\"207\" y2=\"25\" />\n",
       "  <line x1=\"121\" y1=\"26\" x2=\"207\" y2=\"26\" />\n",
       "  <line x1=\"122\" y1=\"27\" x2=\"208\" y2=\"27\" />\n",
       "  <line x1=\"123\" y1=\"28\" x2=\"209\" y2=\"28\" />\n",
       "  <line x1=\"123\" y1=\"28\" x2=\"210\" y2=\"28\" style=\"stroke-width:2\" />\n",
       "\n",
       "  <!-- Vertical lines -->\n",
       "  <line x1=\"95\" y1=\"0\" x2=\"123\" y2=\"28\" style=\"stroke-width:2\" />\n",
       "  <line x1=\"181\" y1=\"0\" x2=\"210\" y2=\"28\" style=\"stroke-width:2\" />\n",
       "\n",
       "  <!-- Colored Rectangle -->\n",
       "  <polygon points=\"95.0,0.0 181.71875,0.0 210.67095588235293,28.95220588235294 123.95220588235294,28.95220588235294\" style=\"fill:#8B4903A0;stroke-width:0\"/>\n",
       "\n",
       "  <!-- Horizontal lines -->\n",
       "  <line x1=\"123\" y1=\"28\" x2=\"210\" y2=\"28\" style=\"stroke-width:2\" />\n",
       "  <line x1=\"123\" y1=\"148\" x2=\"210\" y2=\"148\" style=\"stroke-width:2\" />\n",
       "\n",
       "  <!-- Vertical lines -->\n",
       "  <line x1=\"123\" y1=\"28\" x2=\"123\" y2=\"148\" style=\"stroke-width:2\" />\n",
       "  <line x1=\"210\" y1=\"28\" x2=\"210\" y2=\"148\" style=\"stroke-width:2\" />\n",
       "\n",
       "  <!-- Colored Rectangle -->\n",
       "  <polygon points=\"123.95220588235294,28.95220588235294 210.67095588235293,28.95220588235294 210.67095588235293,148.95220588235293 123.95220588235294,148.95220588235293\" style=\"fill:#ECB172A0;stroke-width:0\"/>\n",
       "\n",
       "  <!-- Text -->\n",
       "  <text x=\"167.311581\" y=\"168.952206\" font-size=\"1.0rem\" font-weight=\"100\" text-anchor=\"middle\" >7400</text>\n",
       "  <text x=\"230.670956\" y=\"88.952206\" font-size=\"1.0rem\" font-weight=\"100\" text-anchor=\"middle\" transform=\"rotate(-90,230.670956,88.952206)\">10240</text>\n",
       "  <text x=\"99.476103\" y=\"154.476103\" font-size=\"1.0rem\" font-weight=\"100\" text-anchor=\"middle\" transform=\"rotate(45,99.476103,154.476103)\">4200</text>\n",
       "</svg>\n",
       "        </td>\n",
       "    </tr>\n",
       "</table>"
      ],
      "text/plain": [
       "dask.array<from-zarr, shape=(1, 1, 4200, 10240, 7400), dtype=uint16, chunksize=(1, 1, 1, 10240, 7400), chunktype=numpy.ndarray>"
      ]
     },
     "execution_count": 19,
     "metadata": {},
     "output_type": "execute_result"
    }
   ],
   "source": [
    "multiscales.images[0].data"
   ]
  },
  {
   "cell_type": "markdown",
   "id": "bea6915e-1300-4eed-867a-42bd7506985f",
   "metadata": {},
   "source": [
    "And load regions of the pixel data on demand.\n",
    "\n",
    "Note that when loading the data, it is transferred in its highly compressed form. Only the chunks than are required to provide the requested region are loaded.\n",
    "\n",
    "Use `np.asarray` with NumPy indexing on the Dask Array for an memory `numpy.ndarray`'s."
   ]
  },
  {
   "cell_type": "code",
   "execution_count": 20,
   "id": "7bcc9235-70b6-4a8d-b7cb-781cfe55964b",
   "metadata": {},
   "outputs": [
    {
     "data": {
      "text/html": [
       "<pre style=\"white-space:pre;overflow-x:auto;line-height:normal;font-family:Menlo,'DejaVu Sans Mono',consolas,'Courier New',monospace\"><span style=\"font-weight: bold\">[[</span> <span style=\"color: #008080; text-decoration-color: #008080; font-weight: bold\">0</span> <span style=\"color: #008080; text-decoration-color: #008080; font-weight: bold\">11</span> <span style=\"color: #008080; text-decoration-color: #008080; font-weight: bold\">10</span> <span style=\"color: #808000; text-decoration-color: #808000\">...</span>  <span style=\"color: #008080; text-decoration-color: #008080; font-weight: bold\">3</span>  <span style=\"color: #008080; text-decoration-color: #008080; font-weight: bold\">0</span>  <span style=\"color: #008080; text-decoration-color: #008080; font-weight: bold\">0</span><span style=\"font-weight: bold\">]]</span>\n",
       "</pre>\n"
      ],
      "text/plain": [
       "\u001b[1m[\u001b[0m\u001b[1m[\u001b[0m \u001b[1;36m0\u001b[0m \u001b[1;36m11\u001b[0m \u001b[1;36m10\u001b[0m \u001b[33m...\u001b[0m  \u001b[1;36m3\u001b[0m  \u001b[1;36m0\u001b[0m  \u001b[1;36m0\u001b[0m\u001b[1m]\u001b[0m\u001b[1m]\u001b[0m\n"
      ]
     },
     "metadata": {},
     "output_type": "display_data"
    }
   ],
   "source": [
    "print(np.asarray(multiscales.images[0].data[0,0,0,:8:8]))"
   ]
  },
  {
   "cell_type": "markdown",
   "id": "a2188da9-26c5-4a0d-b6a0-6e19dbaec0c1",
   "metadata": {},
   "source": [
    "## Exercises"
   ]
  },
  {
   "cell_type": "markdown",
   "id": "e6effc91-4a1d-46ce-9f76-6cd191e4cc48",
   "metadata": {},
   "source": [
    "### Exercise 1: Compare multiscale sizes\n",
    "\n",
    "How do the sizes of the downsampled scales compare to the original resolution data?"
   ]
  },
  {
   "cell_type": "code",
   "execution_count": 33,
   "id": "4f220be1-9ef2-42d3-b81d-4d5cabdd48c2",
   "metadata": {},
   "outputs": [],
   "source": [
    "# %load Reading_OME-Zarr_Data_Exercise_1_Solution.py"
   ]
  },
  {
   "cell_type": "markdown",
   "id": "6e0aacd1-8cda-4172-845c-5b645c458c00",
   "metadata": {},
   "source": [
    "### Exercise 2: Fetch image\n",
    "\n",
    "Fetch all the image pixel data for scale 4.\n",
    "\n",
    "Print the image metadata for scale 4."
   ]
  },
  {
   "cell_type": "code",
   "execution_count": 36,
   "id": "9da77a73-426e-4712-a1ab-54c9e5d3e88c",
   "metadata": {},
   "outputs": [],
   "source": [
    "# %load Reading_OME-Zarr_Data_Exercise_2_Solution.py"
   ]
  }
 ],
 "metadata": {
  "kernelspec": {
   "display_name": "Python 3 (ipykernel)",
   "language": "python",
   "name": "python3"
  },
  "language_info": {
   "codemirror_mode": {
    "name": "ipython",
    "version": 3
   },
   "file_extension": ".py",
   "mimetype": "text/x-python",
   "name": "python",
   "nbconvert_exporter": "python",
   "pygments_lexer": "ipython3",
   "version": "3.11.3"
  }
 },
 "nbformat": 4,
 "nbformat_minor": 5
}
